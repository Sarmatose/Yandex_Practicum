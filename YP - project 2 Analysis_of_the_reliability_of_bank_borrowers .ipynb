{
  "cells": [
    {
      "cell_type": "markdown",
      "source": [
        "**ЧАСТЬ 1**"
      ],
      "metadata": {
        "id": "7nTiu51IoXjj"
      },
      "id": "7nTiu51IoXjj"
    },
    {
      "cell_type": "markdown",
      "id": "4f11de00",
      "metadata": {
        "deletable": false,
        "editable": false,
        "id": "4f11de00"
      },
      "source": [
        "# Исследование надежности заемщиков"
      ]
    },
    {
      "cell_type": "code",
      "execution_count": null,
      "id": "fab207d0",
      "metadata": {
        "id": "fab207d0"
      },
      "outputs": [],
      "source": [
        "import pandas as pd# импортируйте библиотеку pandas"
      ]
    },
    {
      "cell_type": "code",
      "execution_count": null,
      "id": "6c82b607",
      "metadata": {
        "id": "6c82b607"
      },
      "outputs": [],
      "source": [
        "data = pd.read_csv('/datasets/data.csv')# прочитайте csv-файл"
      ]
    },
    {
      "cell_type": "code",
      "execution_count": null,
      "id": "4ff33b36",
      "metadata": {
        "id": "4ff33b36",
        "outputId": "cf582779-d0a5-4e5f-922a-a9af3d8d0f14"
      },
      "outputs": [
        {
          "name": "stdout",
          "output_type": "stream",
          "text": [
            "    children  days_employed  dob_years            education  education_id  \\\n",
            "0          1   -8437.673028         42               высшее             0   \n",
            "1          1   -4024.803754         36              среднее             1   \n",
            "2          0   -5623.422610         33              Среднее             1   \n",
            "3          3   -4124.747207         32              среднее             1   \n",
            "4          0  340266.072047         53              среднее             1   \n",
            "5          0    -926.185831         27               высшее             0   \n",
            "6          0   -2879.202052         43               высшее             0   \n",
            "7          0    -152.779569         50              СРЕДНЕЕ             1   \n",
            "8          2   -6929.865299         35               ВЫСШЕЕ             0   \n",
            "9          0   -2188.756445         41              среднее             1   \n",
            "10         2   -4171.483647         36               высшее             0   \n",
            "11         0    -792.701887         40              среднее             1   \n",
            "12         0            NaN         65              среднее             1   \n",
            "13         0   -1846.641941         54  неоконченное высшее             2   \n",
            "14         0   -1844.956182         56               высшее             0   \n",
            "15         1    -972.364419         26              среднее             1   \n",
            "16         0   -1719.934226         35              среднее             1   \n",
            "17         0   -2369.999720         33               высшее             0   \n",
            "18         0  400281.136913         53              среднее             1   \n",
            "19         0  -10038.818549         48              СРЕДНЕЕ             1   \n",
            "\n",
            "       family_status  family_status_id gender income_type  debt  \\\n",
            "0    женат / замужем                 0      F   сотрудник     0   \n",
            "1    женат / замужем                 0      F   сотрудник     0   \n",
            "2    женат / замужем                 0      M   сотрудник     0   \n",
            "3    женат / замужем                 0      M   сотрудник     0   \n",
            "4   гражданский брак                 1      F   пенсионер     0   \n",
            "5   гражданский брак                 1      M   компаньон     0   \n",
            "6    женат / замужем                 0      F   компаньон     0   \n",
            "7    женат / замужем                 0      M   сотрудник     0   \n",
            "8   гражданский брак                 1      F   сотрудник     0   \n",
            "9    женат / замужем                 0      M   сотрудник     0   \n",
            "10   женат / замужем                 0      M   компаньон     0   \n",
            "11   женат / замужем                 0      F   сотрудник     0   \n",
            "12  гражданский брак                 1      M   пенсионер     0   \n",
            "13   женат / замужем                 0      F   сотрудник     0   \n",
            "14  гражданский брак                 1      F   компаньон     1   \n",
            "15   женат / замужем                 0      F   сотрудник     0   \n",
            "16   женат / замужем                 0      F   сотрудник     0   \n",
            "17  гражданский брак                 1      M   сотрудник     0   \n",
            "18    вдовец / вдова                 2      F   пенсионер     0   \n",
            "19         в разводе                 3      F   сотрудник     0   \n",
            "\n",
            "     total_income                                 purpose  \n",
            "0   253875.639453                           покупка жилья  \n",
            "1   112080.014102                 приобретение автомобиля  \n",
            "2   145885.952297                           покупка жилья  \n",
            "3   267628.550329              дополнительное образование  \n",
            "4   158616.077870                         сыграть свадьбу  \n",
            "5   255763.565419                           покупка жилья  \n",
            "6   240525.971920                       операции с жильем  \n",
            "7   135823.934197                             образование  \n",
            "8    95856.832424                   на проведение свадьбы  \n",
            "9   144425.938277                 покупка жилья для семьи  \n",
            "10  113943.491460                    покупка недвижимости  \n",
            "11   77069.234271       покупка коммерческой недвижимости  \n",
            "12            NaN                         сыграть свадьбу  \n",
            "13  130458.228857                 приобретение автомобиля  \n",
            "14  165127.911772              покупка жилой недвижимости  \n",
            "15  116820.904450  строительство собственной недвижимости  \n",
            "16  289202.704229                            недвижимость  \n",
            "17   90410.586745              строительство недвижимости  \n",
            "18   56823.777243      на покупку подержанного автомобиля  \n",
            "19  242831.107982            на покупку своего автомобиля  \n"
          ]
        }
      ],
      "source": [
        "print(data.head(20))# ваш код здесь"
      ]
    },
    {
      "cell_type": "code",
      "execution_count": null,
      "id": "e1ed9908",
      "metadata": {
        "id": "e1ed9908",
        "outputId": "e07f6716-0c15-4c57-e8ca-eac5ea648187"
      },
      "outputs": [
        {
          "name": "stdout",
          "output_type": "stream",
          "text": [
            "<class 'pandas.core.frame.DataFrame'>\n",
            "RangeIndex: 21525 entries, 0 to 21524\n",
            "Data columns (total 12 columns):\n",
            " #   Column            Non-Null Count  Dtype  \n",
            "---  ------            --------------  -----  \n",
            " 0   children          21525 non-null  int64  \n",
            " 1   days_employed     19351 non-null  float64\n",
            " 2   dob_years         21525 non-null  int64  \n",
            " 3   education         21525 non-null  object \n",
            " 4   education_id      21525 non-null  int64  \n",
            " 5   family_status     21525 non-null  object \n",
            " 6   family_status_id  21525 non-null  int64  \n",
            " 7   gender            21525 non-null  object \n",
            " 8   income_type       21525 non-null  object \n",
            " 9   debt              21525 non-null  int64  \n",
            " 10  total_income      19351 non-null  float64\n",
            " 11  purpose           21525 non-null  object \n",
            "dtypes: float64(2), int64(5), object(5)\n",
            "memory usage: 2.0+ MB\n"
          ]
        }
      ],
      "source": [
        "data.info()# ваш код здесь"
      ]
    },
    {
      "cell_type": "markdown",
      "id": "f969a1cd",
      "metadata": {
        "deletable": false,
        "editable": false,
        "id": "f969a1cd"
      },
      "source": [
        "## Предобработка данных"
      ]
    },
    {
      "cell_type": "markdown",
      "id": "7283e864",
      "metadata": {
        "deletable": false,
        "editable": false,
        "id": "7283e864"
      },
      "source": [
        "### Удаление пропусков"
      ]
    },
    {
      "cell_type": "code",
      "execution_count": null,
      "id": "b7a096e1",
      "metadata": {
        "id": "b7a096e1",
        "outputId": "b59b957c-d6ab-47a7-a289-54d3924baec0"
      },
      "outputs": [
        {
          "data": {
            "text/plain": [
              "children               0\n",
              "days_employed       2174\n",
              "dob_years              0\n",
              "education              0\n",
              "education_id           0\n",
              "family_status          0\n",
              "family_status_id       0\n",
              "gender                 0\n",
              "income_type            0\n",
              "debt                   0\n",
              "total_income        2174\n",
              "purpose                0\n",
              "dtype: int64"
            ]
          },
          "execution_count": 5,
          "metadata": {},
          "output_type": "execute_result"
        }
      ],
      "source": [
        "data.isna().sum()# ваш код здесь"
      ]
    },
    {
      "cell_type": "markdown",
      "id": "c2578616",
      "metadata": {
        "deletable": false,
        "editable": false,
        "id": "c2578616",
        "tags": [
          "start_task"
        ]
      },
      "source": [
        "**В двух столбцах есть пропущенные значения. Один из них — `days_employed`. Пропуски в этом столбце вы обработаете на следующем этапе. Другой столбец с пропущенными значениями — `total_income` — хранит данные о доходах. На сумму дохода сильнее всего влияет тип занятости, поэтому заполнить пропуски в этом столбце нужно медианным значением по каждому типу из столбца `income_type`. Например, у человека с типом занятости `сотрудник` пропуск в столбце `total_income` должен быть заполнен медианным доходом среди всех записей с тем же типом.**"
      ]
    },
    {
      "cell_type": "code",
      "execution_count": null,
      "id": "e8afc4bc",
      "metadata": {
        "id": "e8afc4bc"
      },
      "outputs": [],
      "source": [
        "#total_income_median = data.groupby('income_type')['total_income'].median()\n",
        "for tot_inc in data['income_type'].unique():\n",
        "    data.loc[(data['income_type']==tot_inc) & (data['total_income'].isna()), 'total_income'] = data.loc[(data['income_type'] == tot_inc), 'total_income'].median()"
      ]
    },
    {
      "cell_type": "markdown",
      "id": "ae986d46",
      "metadata": {
        "deletable": false,
        "editable": false,
        "id": "ae986d46"
      },
      "source": [
        "### Обработка аномальных значений"
      ]
    },
    {
      "cell_type": "markdown",
      "id": "b049cbae",
      "metadata": {
        "deletable": false,
        "editable": false,
        "id": "b049cbae",
        "tags": [
          "start_task"
        ]
      },
      "source": [
        "**В данных могут встречаться артефакты (аномалии) — значения, которые не отражают действительность и появились по какой-то ошибке. Таким артефактом будет отрицательное количество дней трудового стажа в столбце `days_employed`. Для реальных данных это нормально. Обработайте значения в этом столбце: замените все отрицательные значения положительными с помощью метода `abs()`.**"
      ]
    },
    {
      "cell_type": "code",
      "execution_count": null,
      "id": "187779b0",
      "metadata": {
        "id": "187779b0"
      },
      "outputs": [],
      "source": [
        "data['days_employed'] = data['days_employed'].abs()# ваш код здесь"
      ]
    },
    {
      "cell_type": "code",
      "execution_count": null,
      "id": "f3f5810c",
      "metadata": {
        "id": "f3f5810c",
        "outputId": "8bb1b898-1c1e-4e21-cde2-1bdc595505d4"
      },
      "outputs": [
        {
          "name": "stdout",
          "output_type": "stream",
          "text": [
            "income_type\n",
            "безработный        366413.652744\n",
            "в декрете            3296.759962\n",
            "госслужащий          2689.368353\n",
            "компаньон            1547.382223\n",
            "пенсионер          365213.306266\n",
            "предприниматель       520.848083\n",
            "сотрудник            1574.202821\n",
            "студент               578.751554\n",
            "Name: days_employed, dtype: float64\n"
          ]
        }
      ],
      "source": [
        "print(data.groupby('income_type')['days_employed'].median())# ваш код здесь"
      ]
    },
    {
      "cell_type": "markdown",
      "id": "dbc3168c",
      "metadata": {
        "deletable": false,
        "editable": false,
        "id": "dbc3168c"
      },
      "source": [
        "У двух типов (безработные и пенсионеры) получатся аномально большие значения. Исправить такие значения сложно, поэтому оставьте их как есть."
      ]
    },
    {
      "cell_type": "code",
      "execution_count": null,
      "id": "9bd0c232",
      "metadata": {
        "id": "9bd0c232",
        "outputId": "061284b1-adb8-4640-b52b-0e8e05cabf3c"
      },
      "outputs": [
        {
          "name": "stdout",
          "output_type": "stream",
          "text": [
            "[ 1  0  3  2 -1  4 20  5]\n"
          ]
        }
      ],
      "source": [
        "print(data['children'].unique()) # ваш код здесь"
      ]
    },
    {
      "cell_type": "markdown",
      "id": "8e911990",
      "metadata": {
        "deletable": false,
        "editable": false,
        "id": "8e911990",
        "tags": [
          "start_task"
        ]
      },
      "source": [
        "**В столбце `children` есть два аномальных значения. Удаляем строки, в которых встречаются такие аномальные значения из датафрейма `data`.**"
      ]
    },
    {
      "cell_type": "code",
      "execution_count": null,
      "id": "6d5ba289",
      "metadata": {
        "id": "6d5ba289"
      },
      "outputs": [],
      "source": [
        "data = data[data['children'] != -1]\n",
        "data = data[data['children'] != 20] # ваш код здесь"
      ]
    },
    {
      "cell_type": "code",
      "execution_count": null,
      "id": "2c5fa92c",
      "metadata": {
        "id": "2c5fa92c",
        "outputId": "1cf7af4c-185d-4778-98ab-5c6459e29c0d"
      },
      "outputs": [
        {
          "data": {
            "text/plain": [
              "array([1, 0, 3, 2, 4, 5])"
            ]
          },
          "execution_count": 11,
          "metadata": {},
          "output_type": "execute_result"
        }
      ],
      "source": [
        "data['children'].unique()# ваш код здесь"
      ]
    },
    {
      "cell_type": "markdown",
      "id": "0ec07dee",
      "metadata": {
        "deletable": false,
        "editable": false,
        "id": "0ec07dee"
      },
      "source": [
        "### Удаление пропусков (продолжение)"
      ]
    },
    {
      "cell_type": "markdown",
      "id": "0fc3ae3f",
      "metadata": {
        "deletable": false,
        "editable": false,
        "id": "0fc3ae3f",
        "tags": [
          "start_task"
        ]
      },
      "source": [
        "**Заполняем пропуски в столбце `days_employed` медианными значениями по каждому типу занятости `income_type`.**"
      ]
    },
    {
      "cell_type": "code",
      "execution_count": null,
      "id": "e2aea7ac",
      "metadata": {
        "id": "e2aea7ac"
      },
      "outputs": [],
      "source": [
        "for days_emp in data['income_type'].unique():\n",
        "    data.loc[(data['income_type']==days_emp) & (data['days_employed'].isna()), 'days_employed'] = data.loc[(data['income_type'] == days_emp), 'days_employed'].median()# ваш код здесь"
      ]
    },
    {
      "cell_type": "code",
      "execution_count": null,
      "id": "79632a21",
      "metadata": {
        "id": "79632a21",
        "outputId": "8f6563d2-e609-4b19-87f1-0f4264b30c00"
      },
      "outputs": [
        {
          "name": "stdout",
          "output_type": "stream",
          "text": [
            "children            0\n",
            "days_employed       0\n",
            "dob_years           0\n",
            "education           0\n",
            "education_id        0\n",
            "family_status       0\n",
            "family_status_id    0\n",
            "gender              0\n",
            "income_type         0\n",
            "debt                0\n",
            "total_income        0\n",
            "purpose             0\n",
            "dtype: int64\n"
          ]
        }
      ],
      "source": [
        "print(data.isna().sum()) # ваш код здесь"
      ]
    },
    {
      "cell_type": "markdown",
      "id": "bd4aeb20",
      "metadata": {
        "deletable": false,
        "editable": false,
        "id": "bd4aeb20"
      },
      "source": [
        "### Изменение типов данных"
      ]
    },
    {
      "cell_type": "markdown",
      "id": "963bfa58",
      "metadata": {
        "deletable": false,
        "editable": false,
        "id": "963bfa58",
        "tags": [
          "start_task"
        ]
      },
      "source": [
        "**Заменим вещественный тип данных в столбце `total_income` на целочисленный с помощью метода `astype()`.**"
      ]
    },
    {
      "cell_type": "code",
      "execution_count": null,
      "id": "73da6ea0",
      "metadata": {
        "id": "73da6ea0"
      },
      "outputs": [],
      "source": [
        "data['total_income'] = data['total_income'].astype(int) # ваш код здесь"
      ]
    },
    {
      "cell_type": "markdown",
      "id": "d290239e",
      "metadata": {
        "deletable": false,
        "editable": false,
        "id": "d290239e"
      },
      "source": [
        "### Обработка дубликатов"
      ]
    },
    {
      "cell_type": "markdown",
      "id": "1b5844fd",
      "metadata": {
        "deletable": false,
        "editable": false,
        "id": "1b5844fd",
        "tags": [
          "start_task"
        ]
      },
      "source": [
        "**Обработаем неявные дубликаты в столбце `education`. В этом столбце есть одни и те же значения, но записанные по-разному: с использованием заглавных и строчных букв. Приведем их к нижнему регистру.**"
      ]
    },
    {
      "cell_type": "code",
      "execution_count": null,
      "id": "3f2504b3",
      "metadata": {
        "id": "3f2504b3"
      },
      "outputs": [],
      "source": [
        "data['education'] = data['education'].str.lower()# ваш код здесь"
      ]
    },
    {
      "cell_type": "markdown",
      "id": "4c22acbc",
      "metadata": {
        "deletable": false,
        "editable": false,
        "id": "4c22acbc",
        "tags": [
          "start_task"
        ]
      },
      "source": [
        "**Выведем на экран количество строк-дубликатов в данных. Если такие строки присутствуют, удалим их.**"
      ]
    },
    {
      "cell_type": "code",
      "execution_count": null,
      "id": "d34a4325",
      "metadata": {
        "id": "d34a4325",
        "outputId": "ecaa1ad0-251b-46f6-c1d0-1c953d28854c"
      },
      "outputs": [
        {
          "name": "stdout",
          "output_type": "stream",
          "text": [
            "71\n"
          ]
        }
      ],
      "source": [
        "print(data.duplicated().sum())# посчитайте дубликаты"
      ]
    },
    {
      "cell_type": "code",
      "execution_count": null,
      "id": "6e1a6499",
      "metadata": {
        "id": "6e1a6499"
      },
      "outputs": [],
      "source": [
        "data = data.drop_duplicates()# удалите дубликаты"
      ]
    },
    {
      "cell_type": "markdown",
      "id": "e5686ccc",
      "metadata": {
        "deletable": false,
        "editable": false,
        "id": "e5686ccc"
      },
      "source": [
        "### Категоризация данных"
      ]
    },
    {
      "cell_type": "markdown",
      "id": "636e9acd",
      "metadata": {
        "deletable": false,
        "editable": false,
        "id": "636e9acd",
        "tags": [
          "start_task"
        ]
      },
      "source": [
        "**На основании диапазонов, указанных ниже, создаем в датафрейме `data` столбец `total_income_category` с категориями:**\n",
        "\n",
        "- 0–30000 — `'E'`;\n",
        "- 30001–50000 — `'D'`;\n",
        "- 50001–200000 — `'C'`;\n",
        "- 200001–1000000 — `'B'`;\n",
        "- 1000001 и выше — `'A'`.\n",
        "\n",
        "\n",
        "**Например, кредитополучателю с доходом 25000 нужно назначить категорию `'E'`, а клиенту, получающему 235000, — `'B'`. Используйте собственную функцию с именем `categorize_income()` и метод `apply()`.**"
      ]
    },
    {
      "cell_type": "code",
      "execution_count": null,
      "id": "880a77e5",
      "metadata": {
        "id": "880a77e5"
      },
      "outputs": [],
      "source": [
        "def categorize_income(total_income): # создайте функцию categorize_income()\n",
        "    if total_income<=30000:\n",
        "        return 'E'\n",
        "    elif 30001<=total_income<=50000:\n",
        "        return 'D'\n",
        "    elif 50001<=total_income<=200000:\n",
        "        return 'C'\n",
        "    elif 200001<=total_income<=1000000:\n",
        "        return 'B'\n",
        "    elif total_income>=1000001:\n",
        "        return 'A'"
      ]
    },
    {
      "cell_type": "code",
      "execution_count": null,
      "id": "6f25f161",
      "metadata": {
        "id": "6f25f161",
        "scrolled": true
      },
      "outputs": [],
      "source": [
        "data['total_income_category'] = data['total_income'].apply(categorize_income)# примените функцию методом apply()"
      ]
    },
    {
      "cell_type": "markdown",
      "id": "3363b685",
      "metadata": {
        "deletable": false,
        "editable": false,
        "id": "3363b685",
        "tags": [
          "start_task"
        ]
      },
      "source": [
        "**Выведем на экран перечень уникальных целей взятия кредита из столбца `purpose`.**"
      ]
    },
    {
      "cell_type": "code",
      "execution_count": null,
      "id": "e59f2c15",
      "metadata": {
        "id": "e59f2c15",
        "outputId": "a3b11b5a-8ae8-410d-908b-cc495bf7db00"
      },
      "outputs": [
        {
          "name": "stdout",
          "output_type": "stream",
          "text": [
            "['покупка жилья' 'приобретение автомобиля' 'дополнительное образование'\n",
            " 'сыграть свадьбу' 'операции с жильем' 'образование'\n",
            " 'на проведение свадьбы' 'покупка жилья для семьи' 'покупка недвижимости'\n",
            " 'покупка коммерческой недвижимости' 'покупка жилой недвижимости'\n",
            " 'строительство собственной недвижимости' 'недвижимость'\n",
            " 'строительство недвижимости' 'на покупку подержанного автомобиля'\n",
            " 'на покупку своего автомобиля' 'операции с коммерческой недвижимостью'\n",
            " 'строительство жилой недвижимости' 'жилье'\n",
            " 'операции со своей недвижимостью' 'автомобили' 'заняться образованием'\n",
            " 'сделка с подержанным автомобилем' 'получение образования' 'автомобиль'\n",
            " 'свадьба' 'получение дополнительного образования' 'покупка своего жилья'\n",
            " 'операции с недвижимостью' 'получение высшего образования'\n",
            " 'свой автомобиль' 'сделка с автомобилем' 'профильное образование'\n",
            " 'высшее образование' 'покупка жилья для сдачи' 'на покупку автомобиля'\n",
            " 'ремонт жилью' 'заняться высшим образованием']\n"
          ]
        }
      ],
      "source": [
        "print(data['purpose'].unique())# ваш код здесь"
      ]
    },
    {
      "cell_type": "markdown",
      "id": "bb33e847",
      "metadata": {
        "deletable": false,
        "editable": false,
        "id": "bb33e847",
        "tags": [
          "start_task"
        ]
      },
      "source": [
        "**Создаем функцию, которая на основании данных из столбца `purpose` сформирует новый столбец `purpose_category`, в который войдут следующие категории:**\n",
        "\n",
        "- `'операции с автомобилем'`,\n",
        "- `'операции с недвижимостью'`,\n",
        "- `'проведение свадьбы'`,\n",
        "- `'получение образования'`.\n",
        "\n",
        "**Например, если в столбце `purpose` находится подстрока `'на покупку автомобиля'`, то в столбце `purpose_category` должна появиться строка `'операции с автомобилем'`.**\n",
        "\n",
        "**Используйте собственную функцию с именем `categorize_purpose()` и метод `apply()`. Изучите данные в столбце `purpose` и определите, какие подстроки помогут вам правильно определить категорию.**"
      ]
    },
    {
      "cell_type": "code",
      "execution_count": null,
      "id": "63909b83",
      "metadata": {
        "id": "63909b83"
      },
      "outputs": [],
      "source": [
        "def categorize_purpose(purpose): # создайте функцию categorize_purpose()\n",
        "    if purpose in ['покупка жилья', 'операции с жильем', 'покупка жилья для семьи', 'покупка недвижимости', 'покупка коммерческой недвижимости', 'покупка жилой недвижимости',\n",
        " 'строительство собственной недвижимости','операции с коммерческой недвижимостью', 'недвижимость','строительство жилой недвижимости', 'строительство недвижимости', 'жилье', 'операции со своей недвижимостью', 'покупка своего жилья','операции с недвижимостью', 'покупка жилья для сдачи', 'ремонт жилью']:\n",
        "        return 'операции с недвижимостью'\n",
        "    if purpose in ['приобретение автомобиля', 'на покупку подержанного автомобиля', 'на покупку своего автомобиля', 'автомобили', 'сделка с подержанным автомобилем', 'автомобиль', 'свой автомобиль', 'сделка с автомобилем', 'на покупку автомобиля']:\n",
        "        return 'операции с автомобилем'\n",
        "    if purpose in ['сыграть свадьбу',  'на проведение свадьбы', 'свадьба']:\n",
        "        return 'проведение свадьбы'\n",
        "    else:\n",
        "        return 'получение образования'"
      ]
    },
    {
      "cell_type": "code",
      "execution_count": null,
      "id": "7cb4a81d",
      "metadata": {
        "id": "7cb4a81d"
      },
      "outputs": [],
      "source": [
        "data['purpose_category'] = data['purpose'].apply(categorize_purpose)# примените функцию методом apply()"
      ]
    },
    {
      "cell_type": "markdown",
      "source": [
        "**ЧАСТЬ 2**"
      ],
      "metadata": {
        "id": "cuDOotHNohE1"
      },
      "id": "cuDOotHNohE1"
    },
    {
      "cell_type": "code",
      "execution_count": null,
      "metadata": {
        "deletable": false,
        "id": "afc7d22b"
      },
      "outputs": [],
      "source": [
        "import pandas as pd\n",
        "\n",
        "try:\n",
        "    data = pd.read_csv('/datasets/data.csv')\n",
        "except:\n",
        "    data = pd.read_csv('https://code.s3.yandex.net/datasets/data.csv')"
      ],
      "id": "afc7d22b"
    },
    {
      "cell_type": "code",
      "execution_count": null,
      "metadata": {
        "deletable": false,
        "id": "11273c53",
        "outputId": "1a8f3ef2-d323-4ec2-ddf7-89670b5944c4",
        "scrolled": false
      },
      "outputs": [
        {
          "data": {
            "text/html": [
              "<div>\n",
              "<style scoped>\n",
              "    .dataframe tbody tr th:only-of-type {\n",
              "        vertical-align: middle;\n",
              "    }\n",
              "\n",
              "    .dataframe tbody tr th {\n",
              "        vertical-align: top;\n",
              "    }\n",
              "\n",
              "    .dataframe thead th {\n",
              "        text-align: right;\n",
              "    }\n",
              "</style>\n",
              "<table border=\"1\" class=\"dataframe\">\n",
              "  <thead>\n",
              "    <tr style=\"text-align: right;\">\n",
              "      <th></th>\n",
              "      <th>children</th>\n",
              "      <th>days_employed</th>\n",
              "      <th>dob_years</th>\n",
              "      <th>education</th>\n",
              "      <th>education_id</th>\n",
              "      <th>family_status</th>\n",
              "      <th>family_status_id</th>\n",
              "      <th>gender</th>\n",
              "      <th>income_type</th>\n",
              "      <th>debt</th>\n",
              "      <th>total_income</th>\n",
              "      <th>purpose</th>\n",
              "    </tr>\n",
              "  </thead>\n",
              "  <tbody>\n",
              "    <tr>\n",
              "      <th>0</th>\n",
              "      <td>1</td>\n",
              "      <td>-8437.673028</td>\n",
              "      <td>42</td>\n",
              "      <td>высшее</td>\n",
              "      <td>0</td>\n",
              "      <td>женат / замужем</td>\n",
              "      <td>0</td>\n",
              "      <td>F</td>\n",
              "      <td>сотрудник</td>\n",
              "      <td>0</td>\n",
              "      <td>253875.639453</td>\n",
              "      <td>покупка жилья</td>\n",
              "    </tr>\n",
              "    <tr>\n",
              "      <th>1</th>\n",
              "      <td>1</td>\n",
              "      <td>-4024.803754</td>\n",
              "      <td>36</td>\n",
              "      <td>среднее</td>\n",
              "      <td>1</td>\n",
              "      <td>женат / замужем</td>\n",
              "      <td>0</td>\n",
              "      <td>F</td>\n",
              "      <td>сотрудник</td>\n",
              "      <td>0</td>\n",
              "      <td>112080.014102</td>\n",
              "      <td>приобретение автомобиля</td>\n",
              "    </tr>\n",
              "    <tr>\n",
              "      <th>2</th>\n",
              "      <td>0</td>\n",
              "      <td>-5623.422610</td>\n",
              "      <td>33</td>\n",
              "      <td>Среднее</td>\n",
              "      <td>1</td>\n",
              "      <td>женат / замужем</td>\n",
              "      <td>0</td>\n",
              "      <td>M</td>\n",
              "      <td>сотрудник</td>\n",
              "      <td>0</td>\n",
              "      <td>145885.952297</td>\n",
              "      <td>покупка жилья</td>\n",
              "    </tr>\n",
              "    <tr>\n",
              "      <th>3</th>\n",
              "      <td>3</td>\n",
              "      <td>-4124.747207</td>\n",
              "      <td>32</td>\n",
              "      <td>среднее</td>\n",
              "      <td>1</td>\n",
              "      <td>женат / замужем</td>\n",
              "      <td>0</td>\n",
              "      <td>M</td>\n",
              "      <td>сотрудник</td>\n",
              "      <td>0</td>\n",
              "      <td>267628.550329</td>\n",
              "      <td>дополнительное образование</td>\n",
              "    </tr>\n",
              "    <tr>\n",
              "      <th>4</th>\n",
              "      <td>0</td>\n",
              "      <td>340266.072047</td>\n",
              "      <td>53</td>\n",
              "      <td>среднее</td>\n",
              "      <td>1</td>\n",
              "      <td>гражданский брак</td>\n",
              "      <td>1</td>\n",
              "      <td>F</td>\n",
              "      <td>пенсионер</td>\n",
              "      <td>0</td>\n",
              "      <td>158616.077870</td>\n",
              "      <td>сыграть свадьбу</td>\n",
              "    </tr>\n",
              "    <tr>\n",
              "      <th>5</th>\n",
              "      <td>0</td>\n",
              "      <td>-926.185831</td>\n",
              "      <td>27</td>\n",
              "      <td>высшее</td>\n",
              "      <td>0</td>\n",
              "      <td>гражданский брак</td>\n",
              "      <td>1</td>\n",
              "      <td>M</td>\n",
              "      <td>компаньон</td>\n",
              "      <td>0</td>\n",
              "      <td>255763.565419</td>\n",
              "      <td>покупка жилья</td>\n",
              "    </tr>\n",
              "    <tr>\n",
              "      <th>6</th>\n",
              "      <td>0</td>\n",
              "      <td>-2879.202052</td>\n",
              "      <td>43</td>\n",
              "      <td>высшее</td>\n",
              "      <td>0</td>\n",
              "      <td>женат / замужем</td>\n",
              "      <td>0</td>\n",
              "      <td>F</td>\n",
              "      <td>компаньон</td>\n",
              "      <td>0</td>\n",
              "      <td>240525.971920</td>\n",
              "      <td>операции с жильем</td>\n",
              "    </tr>\n",
              "    <tr>\n",
              "      <th>7</th>\n",
              "      <td>0</td>\n",
              "      <td>-152.779569</td>\n",
              "      <td>50</td>\n",
              "      <td>СРЕДНЕЕ</td>\n",
              "      <td>1</td>\n",
              "      <td>женат / замужем</td>\n",
              "      <td>0</td>\n",
              "      <td>M</td>\n",
              "      <td>сотрудник</td>\n",
              "      <td>0</td>\n",
              "      <td>135823.934197</td>\n",
              "      <td>образование</td>\n",
              "    </tr>\n",
              "    <tr>\n",
              "      <th>8</th>\n",
              "      <td>2</td>\n",
              "      <td>-6929.865299</td>\n",
              "      <td>35</td>\n",
              "      <td>ВЫСШЕЕ</td>\n",
              "      <td>0</td>\n",
              "      <td>гражданский брак</td>\n",
              "      <td>1</td>\n",
              "      <td>F</td>\n",
              "      <td>сотрудник</td>\n",
              "      <td>0</td>\n",
              "      <td>95856.832424</td>\n",
              "      <td>на проведение свадьбы</td>\n",
              "    </tr>\n",
              "    <tr>\n",
              "      <th>9</th>\n",
              "      <td>0</td>\n",
              "      <td>-2188.756445</td>\n",
              "      <td>41</td>\n",
              "      <td>среднее</td>\n",
              "      <td>1</td>\n",
              "      <td>женат / замужем</td>\n",
              "      <td>0</td>\n",
              "      <td>M</td>\n",
              "      <td>сотрудник</td>\n",
              "      <td>0</td>\n",
              "      <td>144425.938277</td>\n",
              "      <td>покупка жилья для семьи</td>\n",
              "    </tr>\n",
              "  </tbody>\n",
              "</table>\n",
              "</div>"
            ],
            "text/plain": [
              "   children  days_employed  dob_years education  education_id  \\\n",
              "0         1   -8437.673028         42    высшее             0   \n",
              "1         1   -4024.803754         36   среднее             1   \n",
              "2         0   -5623.422610         33   Среднее             1   \n",
              "3         3   -4124.747207         32   среднее             1   \n",
              "4         0  340266.072047         53   среднее             1   \n",
              "5         0    -926.185831         27    высшее             0   \n",
              "6         0   -2879.202052         43    высшее             0   \n",
              "7         0    -152.779569         50   СРЕДНЕЕ             1   \n",
              "8         2   -6929.865299         35    ВЫСШЕЕ             0   \n",
              "9         0   -2188.756445         41   среднее             1   \n",
              "\n",
              "      family_status  family_status_id gender income_type  debt   total_income  \\\n",
              "0   женат / замужем                 0      F   сотрудник     0  253875.639453   \n",
              "1   женат / замужем                 0      F   сотрудник     0  112080.014102   \n",
              "2   женат / замужем                 0      M   сотрудник     0  145885.952297   \n",
              "3   женат / замужем                 0      M   сотрудник     0  267628.550329   \n",
              "4  гражданский брак                 1      F   пенсионер     0  158616.077870   \n",
              "5  гражданский брак                 1      M   компаньон     0  255763.565419   \n",
              "6   женат / замужем                 0      F   компаньон     0  240525.971920   \n",
              "7   женат / замужем                 0      M   сотрудник     0  135823.934197   \n",
              "8  гражданский брак                 1      F   сотрудник     0   95856.832424   \n",
              "9   женат / замужем                 0      M   сотрудник     0  144425.938277   \n",
              "\n",
              "                      purpose  \n",
              "0               покупка жилья  \n",
              "1     приобретение автомобиля  \n",
              "2               покупка жилья  \n",
              "3  дополнительное образование  \n",
              "4             сыграть свадьбу  \n",
              "5               покупка жилья  \n",
              "6           операции с жильем  \n",
              "7                 образование  \n",
              "8       на проведение свадьбы  \n",
              "9     покупка жилья для семьи  "
            ]
          },
          "execution_count": 2,
          "metadata": {},
          "output_type": "execute_result"
        }
      ],
      "source": [
        "data.head(10)"
      ],
      "id": "11273c53"
    },
    {
      "cell_type": "code",
      "execution_count": null,
      "metadata": {
        "deletable": false,
        "id": "3affcaaa",
        "outputId": "15376089-8dad-46c9-b520-c05248d43158"
      },
      "outputs": [
        {
          "name": "stdout",
          "output_type": "stream",
          "text": [
            "<class 'pandas.core.frame.DataFrame'>\n",
            "RangeIndex: 21525 entries, 0 to 21524\n",
            "Data columns (total 12 columns):\n",
            " #   Column            Non-Null Count  Dtype  \n",
            "---  ------            --------------  -----  \n",
            " 0   children          21525 non-null  int64  \n",
            " 1   days_employed     19351 non-null  float64\n",
            " 2   dob_years         21525 non-null  int64  \n",
            " 3   education         21525 non-null  object \n",
            " 4   education_id      21525 non-null  int64  \n",
            " 5   family_status     21525 non-null  object \n",
            " 6   family_status_id  21525 non-null  int64  \n",
            " 7   gender            21525 non-null  object \n",
            " 8   income_type       21525 non-null  object \n",
            " 9   debt              21525 non-null  int64  \n",
            " 10  total_income      19351 non-null  float64\n",
            " 11  purpose           21525 non-null  object \n",
            "dtypes: float64(2), int64(5), object(5)\n",
            "memory usage: 2.0+ MB\n"
          ]
        }
      ],
      "source": [
        "data.info()"
      ],
      "id": "3affcaaa"
    },
    {
      "cell_type": "code",
      "execution_count": null,
      "metadata": {
        "deletable": false,
        "id": "deb99e57",
        "outputId": "81f4d817-781c-465c-ed15-91ce4446810d"
      },
      "outputs": [
        {
          "data": {
            "text/plain": [
              "children               0\n",
              "days_employed       2174\n",
              "dob_years              0\n",
              "education              0\n",
              "education_id           0\n",
              "family_status          0\n",
              "family_status_id       0\n",
              "gender                 0\n",
              "income_type            0\n",
              "debt                   0\n",
              "total_income        2174\n",
              "purpose                0\n",
              "dtype: int64"
            ]
          },
          "execution_count": 4,
          "metadata": {},
          "output_type": "execute_result"
        }
      ],
      "source": [
        "data.isna().sum() # Посмотрим число пропусков"
      ],
      "id": "deb99e57"
    },
    {
      "cell_type": "markdown",
      "metadata": {
        "deletable": false,
        "editable": false,
        "id": "d4d86b6e"
      },
      "source": [
        "В двух столбцах есть пропущенные значения. Один из них — `days_employed`. Пропуски в этом столбце вы обработаете на следующем этапе. Другой столбец с пропущенными значениями — `total_income` — хранит данные о доходах. На сумму дохода сильнее всего влияет тип занятости, поэтому заполнить пропуски в этом столбце нужно медианным значением по каждому типу из столбца `income_type`. Например, у человека с типом занятости `сотрудник` пропуск в столбце `total_income` должен быть заполнен медианным доходом среди всех записей с тем же типом."
      ],
      "id": "d4d86b6e"
    },
    {
      "cell_type": "code",
      "execution_count": null,
      "metadata": {
        "deletable": false,
        "id": "2ef532fe"
      },
      "outputs": [],
      "source": [
        "for t in data['income_type'].unique():\n",
        "    data.loc[(data['income_type'] == t) & (data['total_income'].isna()), 'total_income'] = \\\n",
        "    data.loc[(data['income_type'] == t), 'total_income'].median()"
      ],
      "id": "2ef532fe"
    },
    {
      "cell_type": "markdown",
      "metadata": {
        "deletable": false,
        "editable": false,
        "id": "c70c3327"
      },
      "source": [
        " Для каждого типа занятости выведем медианное значение трудового стажа `days_employed` в днях."
      ],
      "id": "c70c3327"
    },
    {
      "cell_type": "code",
      "execution_count": null,
      "metadata": {
        "deletable": false,
        "id": "9b3d497b",
        "outputId": "801ef80e-522b-4668-f34e-565af7432bcf"
      },
      "outputs": [
        {
          "data": {
            "text/plain": [
              "income_type\n",
              "безработный        366413.652744\n",
              "в декрете            3296.759962\n",
              "госслужащий          2689.368353\n",
              "компаньон            1547.382223\n",
              "пенсионер          365213.306266\n",
              "предприниматель       520.848083\n",
              "сотрудник            1574.202821\n",
              "студент               578.751554\n",
              "Name: days_employed, dtype: float64"
            ]
          },
          "execution_count": 7,
          "metadata": {},
          "output_type": "execute_result"
        }
      ],
      "source": [
        "data.groupby('income_type')['days_employed'].agg('median')"
      ],
      "id": "9b3d497b"
    },
    {
      "cell_type": "markdown",
      "metadata": {
        "deletable": false,
        "editable": false,
        "id": "28c120fb"
      },
      "source": [
        "У двух типов (безработные и пенсионеры) получатся аномально большие значения. Исправить такие значения сложно, поэтому оставим их как есть. Тем более этот столбец не понадобится нам для исследования."
      ],
      "id": "28c120fb"
    },
    {
      "cell_type": "code",
      "execution_count": null,
      "metadata": {
        "deletable": false,
        "id": "39aab334",
        "outputId": "6975b15c-7f95-4697-d16d-a0c79b657b03"
      },
      "outputs": [
        {
          "data": {
            "text/plain": [
              "array([ 1,  0,  3,  2, -1,  4, 20,  5])"
            ]
          },
          "execution_count": 8,
          "metadata": {},
          "output_type": "execute_result"
        }
      ],
      "source": [
        "data['children'].unique()"
      ],
      "id": "39aab334"
    },
    {
      "cell_type": "markdown",
      "metadata": {
        "deletable": false,
        "editable": false,
        "id": "41b1cd09"
      },
      "source": [
        "В столбце `children` есть два аномальных значения. Удалим строки, в которых встречаются такие аномальные значения из датафрейма `data`."
      ],
      "id": "41b1cd09"
    },
    {
      "cell_type": "code",
      "execution_count": null,
      "metadata": {
        "deletable": false,
        "id": "51bfafd5"
      },
      "outputs": [],
      "source": [
        "data = data[(data['children'] != -1) & (data['children'] != 20)]"
      ],
      "id": "51bfafd5"
    },
    {
      "cell_type": "code",
      "execution_count": null,
      "metadata": {
        "deletable": false,
        "id": "7920c603",
        "outputId": "b2097101-d49d-44d9-901b-32a65c9463d1"
      },
      "outputs": [
        {
          "data": {
            "text/plain": [
              "array([1, 0, 3, 2, 4, 5])"
            ]
          },
          "execution_count": 10,
          "metadata": {},
          "output_type": "execute_result"
        }
      ],
      "source": [
        "data['children'].unique()"
      ],
      "id": "7920c603"
    },
    {
      "cell_type": "markdown",
      "metadata": {
        "deletable": false,
        "editable": false,
        "id": "b28bea35"
      },
      "source": [
        "Заполним пропуски в столбце `days_employed` медианными значениями по каждого типа занятости `income_type`."
      ],
      "id": "b28bea35"
    },
    {
      "cell_type": "code",
      "execution_count": null,
      "metadata": {
        "deletable": false,
        "id": "ec17577b"
      },
      "outputs": [],
      "source": [
        "for t in data['income_type'].unique():\n",
        "    data.loc[(data['income_type'] == t) & (data['days_employed'].isna()), 'days_employed'] = \\\n",
        "    data.loc[(data['income_type'] == t), 'days_employed'].median()"
      ],
      "id": "ec17577b"
    },
    {
      "cell_type": "code",
      "execution_count": null,
      "metadata": {
        "deletable": false,
        "id": "a31a0c78",
        "outputId": "8da1e4e1-358e-4e87-98c9-f261bce0a7b2"
      },
      "outputs": [
        {
          "data": {
            "text/plain": [
              "children            0\n",
              "days_employed       0\n",
              "dob_years           0\n",
              "education           0\n",
              "education_id        0\n",
              "family_status       0\n",
              "family_status_id    0\n",
              "gender              0\n",
              "income_type         0\n",
              "debt                0\n",
              "total_income        0\n",
              "purpose             0\n",
              "dtype: int64"
            ]
          },
          "execution_count": 12,
          "metadata": {},
          "output_type": "execute_result"
        }
      ],
      "source": [
        "data.isna().sum()"
      ],
      "id": "a31a0c78"
    },
    {
      "cell_type": "markdown",
      "metadata": {
        "deletable": false,
        "editable": false,
        "id": "cdbedd2b"
      },
      "source": [
        "Заменим вещественный тип данных в столбце `total_income` на целочисленный с помощью метода `astype()`."
      ],
      "id": "cdbedd2b"
    },
    {
      "cell_type": "code",
      "execution_count": null,
      "metadata": {
        "deletable": false,
        "id": "36fd6a1b"
      },
      "outputs": [],
      "source": [
        "data['total_income'] = data['total_income'].astype(int)"
      ],
      "id": "36fd6a1b"
    },
    {
      "cell_type": "markdown",
      "metadata": {
        "deletable": false,
        "editable": false,
        "id": "c827447d"
      },
      "source": [
        "Обработаем неявные дубликаты в столбце `education`. В этом столбце есть одни и те же значения, но записанные по-разному: с использованием заглавных и строчных букв. Приведите их к нижнему регистру. Проверим:"
      ],
      "id": "c827447d"
    },
    {
      "cell_type": "code",
      "execution_count": null,
      "metadata": {
        "deletable": false,
        "id": "d7b1c6b0"
      },
      "outputs": [],
      "source": [
        "data['education'] = data['education'].str.lower()"
      ],
      "id": "d7b1c6b0"
    },
    {
      "cell_type": "code",
      "execution_count": null,
      "metadata": {
        "deletable": false,
        "id": "d359100e",
        "outputId": "9684deba-1934-42d1-99e1-cda61740f822"
      },
      "outputs": [
        {
          "data": {
            "text/plain": [
              "71"
            ]
          },
          "execution_count": 15,
          "metadata": {},
          "output_type": "execute_result"
        }
      ],
      "source": [
        "data.duplicated().sum()"
      ],
      "id": "d359100e"
    },
    {
      "cell_type": "code",
      "execution_count": null,
      "metadata": {
        "deletable": false,
        "id": "056f0b37"
      },
      "outputs": [],
      "source": [
        "data = data.drop_duplicates()"
      ],
      "id": "056f0b37"
    },
    {
      "cell_type": "markdown",
      "source": [
        "**Категоризация данных**"
      ],
      "metadata": {
        "id": "Qd0rQvRSriQ8"
      },
      "id": "Qd0rQvRSriQ8"
    },
    {
      "cell_type": "markdown",
      "metadata": {
        "deletable": false,
        "editable": false,
        "id": "79e55f92"
      },
      "source": [
        "На основании диапазонов, указанных ниже, создаем в датафрейме `data` столбец `total_income_category` с категориями:\n",
        "\n",
        "- 0–30000 — `'E'`;\n",
        "- 30001–50000 — `'D'`;\n",
        "- 50001–200000 — `'C'`;\n",
        "- 200001–1000000 — `'B'`;\n",
        "- 1000001 и выше — `'A'`.\n",
        "\n",
        "\n",
        "Например, кредитополучателю с доходом 25000 нужно назначить категорию `'E'`, а клиенту, получающему 235000, — `'B'`. Используем собственную функцию с именем `categorize_income()` и метод `apply()`."
      ],
      "id": "79e55f92"
    },
    {
      "cell_type": "code",
      "execution_count": null,
      "metadata": {
        "deletable": false,
        "id": "eca7eb00"
      },
      "outputs": [],
      "source": [
        "def categorize_income(income):\n",
        "    try:\n",
        "        if 0 <= income <= 30000:\n",
        "            return 'E'\n",
        "        elif 30001 <= income <= 50000:\n",
        "            return 'D'\n",
        "        elif 50001 <= income <= 200000:\n",
        "            return 'C'\n",
        "        elif 200001 <= income <= 1000000:\n",
        "            return 'B'\n",
        "        elif income >= 1000001:\n",
        "            return 'A'\n",
        "    except:\n",
        "        pass"
      ],
      "id": "eca7eb00"
    },
    {
      "cell_type": "code",
      "execution_count": null,
      "metadata": {
        "deletable": false,
        "id": "6f284e74"
      },
      "outputs": [],
      "source": [
        "data['total_income_category'] = data['total_income'].apply(categorize_income)"
      ],
      "id": "6f284e74"
    },
    {
      "cell_type": "markdown",
      "metadata": {
        "deletable": false,
        "editable": false,
        "id": "d7d2f7ef"
      },
      "source": [
        "Выведем на экран перечень уникальных целей взятия кредита из столбца `purpose`."
      ],
      "id": "d7d2f7ef"
    },
    {
      "cell_type": "code",
      "execution_count": null,
      "metadata": {
        "deletable": false,
        "id": "3a4fdd50",
        "outputId": "673c12d9-7d7e-4ae0-9812-c622c89dd244"
      },
      "outputs": [
        {
          "data": {
            "text/plain": [
              "array(['покупка жилья', 'приобретение автомобиля',\n",
              "       'дополнительное образование', 'сыграть свадьбу',\n",
              "       'операции с жильем', 'образование', 'на проведение свадьбы',\n",
              "       'покупка жилья для семьи', 'покупка недвижимости',\n",
              "       'покупка коммерческой недвижимости', 'покупка жилой недвижимости',\n",
              "       'строительство собственной недвижимости', 'недвижимость',\n",
              "       'строительство недвижимости', 'на покупку подержанного автомобиля',\n",
              "       'на покупку своего автомобиля',\n",
              "       'операции с коммерческой недвижимостью',\n",
              "       'строительство жилой недвижимости', 'жилье',\n",
              "       'операции со своей недвижимостью', 'автомобили',\n",
              "       'заняться образованием', 'сделка с подержанным автомобилем',\n",
              "       'получение образования', 'автомобиль', 'свадьба',\n",
              "       'получение дополнительного образования', 'покупка своего жилья',\n",
              "       'операции с недвижимостью', 'получение высшего образования',\n",
              "       'свой автомобиль', 'сделка с автомобилем',\n",
              "       'профильное образование', 'высшее образование',\n",
              "       'покупка жилья для сдачи', 'на покупку автомобиля', 'ремонт жилью',\n",
              "       'заняться высшим образованием'], dtype=object)"
            ]
          },
          "execution_count": 19,
          "metadata": {},
          "output_type": "execute_result"
        }
      ],
      "source": [
        "data['purpose'].unique()"
      ],
      "id": "3a4fdd50"
    },
    {
      "cell_type": "markdown",
      "metadata": {
        "deletable": false,
        "editable": false,
        "id": "03a66f41"
      },
      "source": [
        "Создаем функцию, которая на основании данных из столбца `purpose` сформирует новый столбец `purpose_category`, в который войдут следующие категории:**\n",
        "\n",
        "- `'операции с автомобилем'`,\n",
        "- `'операции с недвижимостью'`,\n",
        "- `'проведение свадьбы'`,\n",
        "- `'получение образования'`.\n",
        "\n",
        "Например, если в столбце `purpose` находится подстрока `'на покупку автомобиля'`, то в столбце `purpose_category` должна появиться строка `'операции с автомобилем'`.\n",
        "\n",
        "Используем собственную функцию с именем `categorize_purpose()` и метод `apply()`. Изучим данные в столбце `purpose` и определим, какие подстроки помогут нам правильно определить категорию."
      ],
      "id": "03a66f41"
    },
    {
      "cell_type": "code",
      "execution_count": null,
      "metadata": {
        "deletable": false,
        "id": "fa65056d"
      },
      "outputs": [],
      "source": [
        "def categorize_purpose(row):\n",
        "    try:\n",
        "        if 'автом' in row:\n",
        "            return 'операции с автомобилем'\n",
        "        elif 'жил' in row or 'недвиж' in row:\n",
        "            return 'операции с недвижимостью'\n",
        "        elif 'свад' in row:\n",
        "            return 'проведение свадьбы'\n",
        "        elif 'образов' in row:\n",
        "            return 'получение образования'\n",
        "    except:\n",
        "        return 'нет категории'"
      ],
      "id": "fa65056d"
    },
    {
      "cell_type": "code",
      "execution_count": null,
      "metadata": {
        "deletable": false,
        "id": "62003c47"
      },
      "outputs": [],
      "source": [
        "data['purpose_category'] = data['purpose'].apply(categorize_purpose)"
      ],
      "id": "62003c47"
    },
    {
      "cell_type": "markdown",
      "metadata": {
        "deletable": false,
        "editable": false,
        "id": "0771c887"
      },
      "source": [
        "Есть ли зависимость между количеством детей и возвратом кредита в срок?"
      ],
      "id": "0771c887"
    },
    {
      "cell_type": "markdown",
      "metadata": {
        "id": "dadf1b5f"
      },
      "source": [
        "Проверим значения в столбце debt на наличие случайных или ошибочных значений и создадим сводную таблицу со случаями просрочки и общим количеством выданных кредитов:"
      ],
      "id": "dadf1b5f"
    },
    {
      "cell_type": "code",
      "execution_count": null,
      "metadata": {
        "deletable": false,
        "id": "1118ae10",
        "scrolled": true,
        "outputId": "04026e52-45d9-4f45-ec7a-f7f41e0961e5"
      },
      "outputs": [
        {
          "name": "stdout",
          "output_type": "stream",
          "text": [
            "[0 1]\n",
            "          debt       \n",
            "           sum  count\n",
            "children             \n",
            "0         1063  14091\n",
            "1          444   4808\n",
            "2          194   2052\n",
            "3           27    330\n",
            "4            4     41\n",
            "5            0      9\n"
          ]
        }
      ],
      "source": [
        "print(data['debt'].unique()) # убедимся, что в столбце о наличии задолженности нет \"случайных\" значений, т.е. только 0 или 1.\n",
        "\n",
        "# сгруппируем по наличию детей,применим аггрегирующие функции к столбцу:\n",
        "children_debt_quantity = data.groupby('children').agg({'debt':['sum','count']})\n",
        "print(children_debt_quantity) #выводим результат"
      ],
      "id": "1118ae10"
    },
    {
      "cell_type": "markdown",
      "metadata": {
        "id": "ffef3b1d"
      },
      "source": [
        "Убираем индексы и мультииндексы:"
      ],
      "id": "ffef3b1d"
    },
    {
      "cell_type": "code",
      "execution_count": null,
      "metadata": {
        "id": "e6825296",
        "outputId": "8a05e548-e4f7-4093-d33d-265c1121f0e2"
      },
      "outputs": [
        {
          "name": "stdout",
          "output_type": "stream",
          "text": [
            "   children  debt_quantity  user_total\n",
            "0         0           1063       14091\n",
            "1         1            444        4808\n",
            "2         2            194        2052\n",
            "3         3             27         330\n",
            "4         4              4          41\n",
            "5         5              0           9\n"
          ]
        }
      ],
      "source": [
        "children_debt_quantity.columns = ['debt_quantity', 'user_total'] # избавляемся от мультииндекса в столбцах\n",
        "children_debt_quantity = children_debt_quantity.reset_index(inplace=False) #убираем столбец children из мультииндекса\n",
        "print(children_debt_quantity) # проверка"
      ],
      "id": "e6825296"
    },
    {
      "cell_type": "markdown",
      "metadata": {
        "id": "899d58a2"
      },
      "source": [
        "Добавляем колонку debt_percent - отношение случаев просрочки к общему числу выданных кредитов:"
      ],
      "id": "899d58a2"
    },
    {
      "cell_type": "code",
      "execution_count": null,
      "metadata": {
        "scrolled": true,
        "id": "d75b4884",
        "outputId": "85d40e0c-4475-402b-ae2e-c1385b90e0fb"
      },
      "outputs": [
        {
          "name": "stdout",
          "output_type": "stream",
          "text": [
            "   children  debt_quantity  user_total  debt_percent\n",
            "0         0           1063       14091          7.54\n",
            "1         1            444        4808          9.23\n",
            "2         2            194        2052          9.45\n",
            "3         3             27         330          8.18\n",
            "4         4              4          41          9.76\n",
            "5         5              0           9          0.00\n"
          ]
        }
      ],
      "source": [
        "# создадим столбец отношения кол-во просрочек(в зависимости от наличия детей) к общему количеству кредитов\n",
        "children_debt_quantity['debt_percent'] = children_debt_quantity['debt_quantity']/children_debt_quantity['user_total']\n",
        "\n",
        "# для наглядности переведем в проценты и округлим значения до 2 знаков после запятой\n",
        "children_debt_quantity['debt_percent'] = (children_debt_quantity['debt_percent']*100).round(2)\n",
        "print(children_debt_quantity) # выводим результат"
      ],
      "id": "d75b4884"
    },
    {
      "cell_type": "markdown",
      "metadata": {
        "id": "01f51e5c"
      },
      "source": [
        "Далее может быть два пути (оба ведут к +/- одинковым результатам (проверил)):\n",
        "    1) Либо мы дропаем строку с людьми имеющими 5 детей - т.к. их количество ничтожно мало по сравнению с остальной выборкой (т.е. 0 в графе просрочек - это \"выброс\") и делаем сводную таблицу с категориями \"есть/нет дети\" и считаем процент просрочки в категориях по среднему;\n",
        "    2) Либо мы оставляем строку с 5 детьми, делаем сводную таблицу с категориями \"есть/нет дети\", а значения процента просрочек в категориях считаем по медиане (в соответствии с рекомендациями курса ЯндексПрактикум по количественным значениям)\n",
        "    Пойдем вторым путем:"
      ],
      "id": "01f51e5c"
    },
    {
      "cell_type": "markdown",
      "metadata": {
        "id": "ecd5e67e"
      },
      "source": [
        "Разобьем на категории с наличием и отсутствием детей:"
      ],
      "id": "ecd5e67e"
    },
    {
      "cell_type": "code",
      "execution_count": null,
      "metadata": {
        "id": "475eed0d",
        "outputId": "7b11f25c-17bb-4a9c-f00e-5513ff4a7a6d"
      },
      "outputs": [
        {
          "name": "stdout",
          "output_type": "stream",
          "text": [
            "   children  debt_quantity  user_total  debt_percent  has_child\n",
            "0         0           1063       14091          7.54  нет детей\n",
            "1         1            444        4808          9.23  есть дети\n",
            "2         2            194        2052          9.45  есть дети\n",
            "3         3             27         330          8.18  есть дети\n",
            "4         4              4          41          9.76  есть дети\n",
            "5         5              0           9          0.00  есть дети\n"
          ]
        }
      ],
      "source": [
        "def has_child(children): #напишем функцию has_child(children):\n",
        "    if 5>=children>=1:\n",
        "        return 'есть дети'\n",
        "    return 'нет детей'\n",
        "\n",
        "#применим функцию к сводной таблице children_debt_quantity:\n",
        "children_debt_quantity['has_child'] = children_debt_quantity['children'].apply(has_child)\n",
        "print(children_debt_quantity) # Проверим что получилось"
      ],
      "id": "475eed0d"
    },
    {
      "cell_type": "markdown",
      "metadata": {
        "id": "6c23278d"
      },
      "source": [
        "Создадим  сводную таблицу в зависимости от has_child:"
      ],
      "id": "6c23278d"
    },
    {
      "cell_type": "code",
      "execution_count": null,
      "metadata": {
        "id": "5cab6b91",
        "outputId": "c28f6c6a-e25b-4ed4-a032-5c9585a65211"
      },
      "outputs": [
        {
          "name": "stdout",
          "output_type": "stream",
          "text": [
            "has_child\n",
            "есть дети    9.23\n",
            "нет детей    7.54\n",
            "Name: debt_percent, dtype: float64\n"
          ]
        }
      ],
      "source": [
        "# создаем таблицу и считаем медиану в каждой категории\n",
        "has_child_df = children_debt_quantity.groupby('has_child')['debt_percent'].median()\n",
        "print(has_child_df)"
      ],
      "id": "5cab6b91"
    },
    {
      "cell_type": "markdown",
      "metadata": {
        "id": "1a4ee7af"
      },
      "source": [
        "\n",
        "Судя по таблице has_child_df сам факт наличия детей в некоторой степени повышает риск задолженности по кредиту ( в среднем на ~2%). Данные по людям с 5 детьми в данном случае представляют собой выброс, поэтому значение в категориях о наличии детей считалось по медиане (не только поэтому, но и из-за того что количественные переменные лучше считать по медиане).\n",
        "Как вариант - убрать из исследования данные по людям с 3-5 детьми, так как они составляют менее 2% выборки.\n",
        "В данном случае, исследование проводилось с использованием этих данных."
      ],
      "id": "1a4ee7af"
    },
    {
      "cell_type": "markdown",
      "metadata": {
        "deletable": false,
        "editable": false,
        "id": "51637f21"
      },
      "source": [
        "Есть ли зависимость между семейным положением и возвратом кредита в срок?"
      ],
      "id": "51637f21"
    },
    {
      "cell_type": "markdown",
      "metadata": {
        "id": "18814053"
      },
      "source": [
        "Значения в столбце debt мы проверили ранее, поэтому сразу создадим сводную таблицу со случаями просрочки и общим количеством выданных кредитов:"
      ],
      "id": "18814053"
    },
    {
      "cell_type": "code",
      "execution_count": null,
      "metadata": {
        "id": "8da43ae9",
        "outputId": "0090217c-70b9-41a0-a070-9d2017ad6cb7"
      },
      "outputs": [
        {
          "name": "stdout",
          "output_type": "stream",
          "text": [
            "                      debt       \n",
            "                       sum  count\n",
            "family_status                    \n",
            "Не женат / не замужем  273   2796\n",
            "в разводе               84   1189\n",
            "вдовец / вдова          63    951\n",
            "гражданский брак       385   4134\n",
            "женат / замужем        927  12261\n"
          ]
        }
      ],
      "source": [
        "# сгруппируем по семейному положению, применим аггрегирующие функции к столбцу\n",
        "family_status_debt = data.groupby('family_status').agg({'debt':['sum','count']})\n",
        "print(family_status_debt) #выводим результат"
      ],
      "id": "8da43ae9"
    },
    {
      "cell_type": "markdown",
      "metadata": {
        "id": "7642feb6"
      },
      "source": [
        "Убираем индексы и мультииндексы:"
      ],
      "id": "7642feb6"
    },
    {
      "cell_type": "code",
      "execution_count": null,
      "metadata": {
        "id": "81363fc6",
        "outputId": "7c5b402a-b47b-4a32-8421-ae66ef894ed0"
      },
      "outputs": [
        {
          "name": "stdout",
          "output_type": "stream",
          "text": [
            "           family_status  debt_quantity  user_total\n",
            "0  Не женат / не замужем            273        2796\n",
            "1              в разводе             84        1189\n",
            "2         вдовец / вдова             63         951\n",
            "3       гражданский брак            385        4134\n",
            "4        женат / замужем            927       12261\n"
          ]
        }
      ],
      "source": [
        "family_status_debt.columns = ['debt_quantity', 'user_total'] # избавляемся от мультииндекса в столбцах\n",
        "family_status_debt = family_status_debt.reset_index(inplace=False) #убираем столбец family_status из индекса\n",
        "print(family_status_debt) # проверка"
      ],
      "id": "81363fc6"
    },
    {
      "cell_type": "markdown",
      "metadata": {
        "id": "4abc3e79"
      },
      "source": [
        "Cоздаем стобец отношения, переводим в проценты, округляем:"
      ],
      "id": "4abc3e79"
    },
    {
      "cell_type": "code",
      "execution_count": null,
      "metadata": {
        "deletable": false,
        "id": "18578002",
        "outputId": "9f9c41b3-da7c-45d6-d8cd-3d4b89d63f23"
      },
      "outputs": [
        {
          "name": "stdout",
          "output_type": "stream",
          "text": [
            "           family_status  debt_quantity  user_total  debt_percent\n",
            "0  Не женат / не замужем            273        2796          9.76\n",
            "1              в разводе             84        1189          7.06\n",
            "2         вдовец / вдова             63         951          6.62\n",
            "3       гражданский брак            385        4134          9.31\n",
            "4        женат / замужем            927       12261          7.56\n"
          ]
        }
      ],
      "source": [
        "#создаем стобец отношения, переводим в проценты, округляем\n",
        "family_status_debt['debt_percent'] = ((family_status_debt['debt_quantity']/family_status_debt['user_total'])*100).round(2)\n",
        "print(family_status_debt)\n"
      ],
      "id": "18578002"
    },
    {
      "cell_type": "markdown",
      "metadata": {
        "id": "9ae5244b"
      },
      "source": [
        "Полученные результаты можно доработать, разбив группы по категориям \"есть/нет партнер\":"
      ],
      "id": "9ae5244b"
    },
    {
      "cell_type": "code",
      "execution_count": null,
      "metadata": {
        "id": "9b4e6601",
        "outputId": "d08fcfd8-ea10-431d-d583-15b8d9e30b43"
      },
      "outputs": [
        {
          "name": "stdout",
          "output_type": "stream",
          "text": [
            "           family_status  debt_quantity  user_total  debt_percent  \\\n",
            "0  Не женат / не замужем            273        2796          9.76   \n",
            "1              в разводе             84        1189          7.06   \n",
            "2         вдовец / вдова             63         951          6.62   \n",
            "3       гражданский брак            385        4134          9.31   \n",
            "4        женат / замужем            927       12261          7.56   \n",
            "\n",
            "     is_partner  \n",
            "0  нет партнера  \n",
            "1  нет партнера  \n",
            "2  нет партнера  \n",
            "3  есть партнер  \n",
            "4  есть партнер  \n"
          ]
        }
      ],
      "source": [
        "#для этого напишем функцию partner_categorize:\n",
        "def partner_categorize(family_status):\n",
        "    if family_status in ['Не женат / не замужем', 'в разводе', 'вдовец / вдова']:\n",
        "        return 'нет партнера'\n",
        "    elif family_status in ['гражданский брак', 'женат / замужем']:\n",
        "        return 'есть партнер'\n",
        "\n",
        "#создадим столбец is_partner в датафрейме family_status_debt и применим написанную функцию:\n",
        "family_status_debt['is_partner'] = family_status_debt['family_status'].apply(partner_categorize)\n",
        "print(family_status_debt) #выведем данные на экран"
      ],
      "id": "9b4e6601"
    },
    {
      "cell_type": "markdown",
      "metadata": {
        "id": "7f42d25a"
      },
      "source": [
        "Сгруппируем данные в зависимости от наличия/отсутствия партнера:"
      ],
      "id": "7f42d25a"
    },
    {
      "cell_type": "code",
      "execution_count": null,
      "metadata": {
        "id": "cf062917",
        "outputId": "898d2625-d036-4529-bf32-139e2c0809cb"
      },
      "outputs": [
        {
          "name": "stdout",
          "output_type": "stream",
          "text": [
            "is_partner\n",
            "есть партнер    8.44\n",
            "нет партнера    7.06\n",
            "Name: debt_percent, dtype: float64\n"
          ]
        }
      ],
      "source": [
        "#сгруппируем данные, применим посчитаем среднее в каждой группе (в данном случае )\n",
        "is_partner_df = family_status_debt.groupby('is_partner')['debt_percent'].median().round(2)\n",
        "print(is_partner_df) #выведем результат на экран"
      ],
      "id": "cf062917"
    },
    {
      "cell_type": "markdown",
      "metadata": {
        "id": "bb016bc6"
      },
      "source": [
        "Можно также посмотреть зависимость просрочки от параметра \"состоял ли когда-нибудь в браке\":"
      ],
      "id": "bb016bc6"
    },
    {
      "cell_type": "code",
      "execution_count": null,
      "metadata": {
        "id": "cae58db6",
        "outputId": "afbc11fe-9086-4b2d-d11a-c8d0f31382c9"
      },
      "outputs": [
        {
          "name": "stdout",
          "output_type": "stream",
          "text": [
            "           family_status  debt_quantity  user_total  debt_percent  \\\n",
            "0  Не женат / не замужем            273        2796          9.76   \n",
            "1              в разводе             84        1189          7.06   \n",
            "2         вдовец / вдова             63         951          6.62   \n",
            "3       гражданский брак            385        4134          9.31   \n",
            "4        женат / замужем            927       12261          7.56   \n",
            "\n",
            "     is_partner                     was_married  \n",
            "0  нет партнера           не состоял(а) в браке  \n",
            "1  нет партнера  состоит или состоял(а) в браке  \n",
            "2  нет партнера  состоит или состоял(а) в браке  \n",
            "3  есть партнер           не состоял(а) в браке  \n",
            "4  есть партнер  состоит или состоял(а) в браке  \n"
          ]
        }
      ],
      "source": [
        "#для этого напишем функцию was_married:\n",
        "def was_married(family_status):\n",
        "    if family_status in ['Не женат / не замужем', 'гражданский брак']:\n",
        "        return 'не состоял(а) в браке'\n",
        "    elif family_status in ['женат / замужем','в разводе', 'вдовец / вдова']:\n",
        "        return 'состоит или состоял(а) в браке'\n",
        "#создадим столбец was_married в датафрейме family_status_debt и применим написанную функцию:\n",
        "family_status_debt['was_married'] = family_status_debt['family_status'].apply(was_married)\n",
        "print(family_status_debt) #выведем данные на экран"
      ],
      "id": "cae58db6"
    },
    {
      "cell_type": "code",
      "execution_count": null,
      "metadata": {
        "id": "4be1e0b0",
        "outputId": "7b2ab1b7-03a9-449a-c91e-76f6910d421d"
      },
      "outputs": [
        {
          "name": "stdout",
          "output_type": "stream",
          "text": [
            "was_married\n",
            "не состоял(а) в браке             9.54\n",
            "состоит или состоял(а) в браке    7.08\n",
            "Name: debt_percent, dtype: float64\n"
          ]
        }
      ],
      "source": [
        "#сгруппируем данные, применим посчитаем среднее в каждой группе (в данном случае )\n",
        "was_married_df = family_status_debt.groupby('was_married')['debt_percent'].mean().round(2)\n",
        "print(was_married_df) #выведем результат на экран"
      ],
      "id": "4be1e0b0"
    },
    {
      "cell_type": "markdown",
      "metadata": {
        "id": "6e785bef"
      },
      "source": [
        "Если брать в широком смысле, то наличие партнера, как ни странно немного повышает риск возникновения задолженности по кредиту (на ~1,5%), тем не менее сам факт того, что человек состоит или состоял в браке снижает этот показатель (на 2,5%).\n",
        "Если брать для анализа более узкие данные, то вдовы/вдовцы наиболее ответственные заёмщики, за ними следом с отставанием 0,5-1 % идут замужем/женатые или в разводе. Люди не женатые/не замужем или состоящие в гражданском браке являются наименее ответственными заемщиками, процент случаев просрочки выплат приближается к 10%, что на 3 % выше чем у вдов/вдовцов и на 2% выше чем у людей в разводе или замужем/женатых."
      ],
      "id": "6e785bef"
    },
    {
      "cell_type": "markdown",
      "metadata": {
        "deletable": false,
        "editable": false,
        "id": "489ed3fc"
      },
      "source": [
        "Есть ли зависимость между уровнем дохода и возвратом кредита в срок?"
      ],
      "id": "489ed3fc"
    },
    {
      "cell_type": "markdown",
      "metadata": {
        "id": "e641cf90"
      },
      "source": [
        "Создадим сводную таблицу:"
      ],
      "id": "e641cf90"
    },
    {
      "cell_type": "code",
      "execution_count": null,
      "metadata": {
        "id": "b9cd6e02",
        "outputId": "424d3bbd-2370-44cc-b481-25f352e8b567"
      },
      "outputs": [
        {
          "name": "stdout",
          "output_type": "stream",
          "text": [
            "                       debt       \n",
            "                        sum  count\n",
            "total_income_category             \n",
            "A                         2     25\n",
            "B                       354   5014\n",
            "C                      1353  15921\n",
            "D                        21    349\n",
            "E                         2     22\n"
          ]
        }
      ],
      "source": [
        "#Сгруппируем по категории зарплат и выведем данные:\n",
        "income_category_df = data.groupby('total_income_category').agg({'debt':['sum','count']})\n",
        "print(income_category_df)"
      ],
      "id": "b9cd6e02"
    },
    {
      "cell_type": "markdown",
      "metadata": {
        "id": "dc028056"
      },
      "source": [
        "Для наглядности таблицы, переименуем категории в диапазоны доходов, для этого сбросим индекс и напишем функцию:"
      ],
      "id": "dc028056"
    },
    {
      "cell_type": "code",
      "execution_count": null,
      "metadata": {
        "id": "6c059663",
        "outputId": "4aaad72d-bbdd-4c31-9f54-97884215bf7f"
      },
      "outputs": [
        {
          "name": "stdout",
          "output_type": "stream",
          "text": [
            "  total_income_category  debt_quantity  user_total\n",
            "0                     A              2          25\n",
            "1                     B            354        5014\n",
            "2                     C           1353       15921\n",
            "3                     D             21         349\n",
            "4                     E              2          22\n"
          ]
        }
      ],
      "source": [
        "income_category_df = income_category_df.reset_index() #сбросим индекс\n",
        "income_category_df.columns = ['total_income_category', 'debt_quantity', 'user_total'] # избавляемся от мультииндекса в столбцах\n",
        "print(income_category_df) # проверка"
      ],
      "id": "6c059663"
    },
    {
      "cell_type": "code",
      "execution_count": null,
      "metadata": {
        "id": "b4a49a37"
      },
      "outputs": [],
      "source": [
        "#запишем функцию income_range(total_income_category):\n",
        "def income_range(total_income_category):\n",
        "    if total_income_category == 'A':\n",
        "        return 'свыше 1000000'\n",
        "    if total_income_category == 'B':\n",
        "        return '200001 ... 1000000'\n",
        "    if total_income_category == 'C':\n",
        "        return '50001 ... 200000'\n",
        "    if total_income_category == 'D':\n",
        "        return '30001 ... 50000'\n",
        "    if total_income_category == 'E':\n",
        "        return 'менее 30000'"
      ],
      "id": "b4a49a37"
    },
    {
      "cell_type": "markdown",
      "metadata": {
        "id": "50016b1e"
      },
      "source": [
        "применим функцию к столбцу total_income_category датафрейма income_category_df:"
      ],
      "id": "50016b1e"
    },
    {
      "cell_type": "code",
      "execution_count": null,
      "metadata": {
        "id": "a590b4f0",
        "outputId": "e5e05716-432e-4a5a-a350-5be3fab235be"
      },
      "outputs": [
        {
          "name": "stdout",
          "output_type": "stream",
          "text": [
            "  total_income_category  debt_quantity  user_total  percent\n",
            "0         свыше 1000000              2          25     8.00\n",
            "1    200001 ... 1000000            354        5014     7.06\n",
            "2      50001 ... 200000           1353       15921     8.50\n",
            "3       30001 ... 50000             21         349     6.02\n",
            "4           менее 30000              2          22     9.09\n"
          ]
        }
      ],
      "source": [
        "#применим функцию к столбцу total_income_category\n",
        "income_category_df['total_income_category'] = income_category_df['total_income_category'].apply(income_range)\n",
        "\n",
        "#добавим столбец с процентами\n",
        "income_category_df['percent'] = ((income_category_df['debt_quantity']/income_category_df['user_total'])*100).round(2)\n",
        "print(income_category_df)"
      ],
      "id": "a590b4f0"
    },
    {
      "cell_type": "markdown",
      "metadata": {
        "deletable": false,
        "id": "3fd1cf39"
      },
      "source": [
        "Если брать в расчет только данные по которым имеется достаточное количество значений (категории \"200000-1000000\" и \"50001-200000\", что составляет 98% от выборки), то можно сделать вывод о том, что рост абсолютного дохода напрямую влияет на вероятность просрочки по кредиту.\n",
        "Группы с доходами ниже 50000 и свыше 1000000 в данном случае имеют маленькую выборку - данными от них можно пренебречь.\n",
        "Если же необходимо из подгрупп выделить наиболее надёжного заёмщика - то это будут люди с доходом в 30000-50000, они не платят в срок лишь в 6% случаев.**"
      ],
      "id": "3fd1cf39"
    },
    {
      "cell_type": "markdown",
      "metadata": {
        "id": "f3da8f53"
      },
      "source": [
        "Альтернативное решение через qcut():"
      ],
      "id": "f3da8f53"
    },
    {
      "cell_type": "markdown",
      "metadata": {
        "id": "1899c7aa"
      },
      "source": [
        "Для начала отсортируем данные по доходу в исходном датафрейме и запишем данные в новый датафрейм. Это нужно для того,\n",
        "чтобы когда мы будем подклеивать значения debt к разбитому на квантили датафрейму - не нарушить порядок."
      ],
      "id": "1899c7aa"
    },
    {
      "cell_type": "code",
      "execution_count": null,
      "metadata": {
        "id": "cf0ab8ce"
      },
      "outputs": [],
      "source": [
        "data_income_sort = data.sort_values(by='total_income') #сортируем\n",
        "#print(data_income_sort.head(10)) #проверяем"
      ],
      "id": "cf0ab8ce"
    },
    {
      "cell_type": "markdown",
      "metadata": {
        "id": "794db883"
      },
      "source": [
        "Применяем метод qcut() для разбития выборки на равные части:"
      ],
      "id": "794db883"
    },
    {
      "cell_type": "code",
      "execution_count": null,
      "metadata": {
        "id": "0e0f5a2b",
        "outputId": "b9a0f8b7-d926-4493-a11e-01c16708cfb7"
      },
      "outputs": [
        {
          "name": "stdout",
          "output_type": "stream",
          "text": [
            "            income_range  q_part\n",
            "0   (20666.999, 98514.0]    4267\n",
            "1    (98514.0, 132113.0]    4266\n",
            "2   (132113.0, 161380.0]    4266\n",
            "3   (161380.0, 214604.0]    4266\n",
            "4  (214604.0, 2265604.0]    4266\n"
          ]
        }
      ],
      "source": [
        "income_categories = pd.qcut(data_income_sort['total_income'], q=5) #разбиваем данные на 5 равных по количеству частей\n",
        "\n",
        "#смотрим количество значений в каждой части и создаем датафрейм:\n",
        "income_cat_val = income_categories.value_counts()\n",
        "income_cat_val = income_cat_val.reset_index() #сбрасываем индекс\n",
        "#для наглядности переименуем столбцы\n",
        "income_cat_val = income_cat_val.rename(columns={'index': 'income_range', 'total_income': 'q_part'})\n",
        "print(income_cat_val) #проверяем"
      ],
      "id": "0e0f5a2b"
    },
    {
      "cell_type": "code",
      "execution_count": null,
      "metadata": {
        "id": "cf830dbb",
        "outputId": "420b2723-b243-4ab7-e146-a72b4439fc9f"
      },
      "outputs": [
        {
          "data": {
            "text/html": [
              "<div>\n",
              "<style scoped>\n",
              "    .dataframe tbody tr th:only-of-type {\n",
              "        vertical-align: middle;\n",
              "    }\n",
              "\n",
              "    .dataframe tbody tr th {\n",
              "        vertical-align: top;\n",
              "    }\n",
              "\n",
              "    .dataframe thead th {\n",
              "        text-align: right;\n",
              "    }\n",
              "</style>\n",
              "<table border=\"1\" class=\"dataframe\">\n",
              "  <thead>\n",
              "    <tr style=\"text-align: right;\">\n",
              "      <th></th>\n",
              "      <th>children</th>\n",
              "      <th>days_employed</th>\n",
              "      <th>dob_years</th>\n",
              "      <th>education</th>\n",
              "      <th>education_id</th>\n",
              "      <th>family_status</th>\n",
              "      <th>family_status_id</th>\n",
              "      <th>gender</th>\n",
              "      <th>income_type</th>\n",
              "      <th>debt</th>\n",
              "      <th>total_income</th>\n",
              "      <th>purpose</th>\n",
              "      <th>total_income_category</th>\n",
              "      <th>purpose_category</th>\n",
              "    </tr>\n",
              "  </thead>\n",
              "  <tbody>\n",
              "    <tr>\n",
              "      <th>14585</th>\n",
              "      <td>0</td>\n",
              "      <td>359219.059341</td>\n",
              "      <td>57</td>\n",
              "      <td>среднее</td>\n",
              "      <td>1</td>\n",
              "      <td>женат / замужем</td>\n",
              "      <td>0</td>\n",
              "      <td>F</td>\n",
              "      <td>пенсионер</td>\n",
              "      <td>1</td>\n",
              "      <td>20667</td>\n",
              "      <td>недвижимость</td>\n",
              "      <td>E</td>\n",
              "      <td>операции с недвижимостью</td>\n",
              "    </tr>\n",
              "    <tr>\n",
              "      <th>13006</th>\n",
              "      <td>0</td>\n",
              "      <td>369708.589113</td>\n",
              "      <td>37</td>\n",
              "      <td>среднее</td>\n",
              "      <td>1</td>\n",
              "      <td>гражданский брак</td>\n",
              "      <td>1</td>\n",
              "      <td>M</td>\n",
              "      <td>пенсионер</td>\n",
              "      <td>0</td>\n",
              "      <td>21205</td>\n",
              "      <td>заняться высшим образованием</td>\n",
              "      <td>E</td>\n",
              "      <td>получение образования</td>\n",
              "    </tr>\n",
              "    <tr>\n",
              "      <th>16174</th>\n",
              "      <td>1</td>\n",
              "      <td>3642.820023</td>\n",
              "      <td>52</td>\n",
              "      <td>среднее</td>\n",
              "      <td>1</td>\n",
              "      <td>женат / замужем</td>\n",
              "      <td>0</td>\n",
              "      <td>M</td>\n",
              "      <td>сотрудник</td>\n",
              "      <td>0</td>\n",
              "      <td>21367</td>\n",
              "      <td>приобретение автомобиля</td>\n",
              "      <td>E</td>\n",
              "      <td>операции с автомобилем</td>\n",
              "    </tr>\n",
              "    <tr>\n",
              "      <th>1598</th>\n",
              "      <td>0</td>\n",
              "      <td>359726.104207</td>\n",
              "      <td>68</td>\n",
              "      <td>среднее</td>\n",
              "      <td>1</td>\n",
              "      <td>гражданский брак</td>\n",
              "      <td>1</td>\n",
              "      <td>M</td>\n",
              "      <td>пенсионер</td>\n",
              "      <td>0</td>\n",
              "      <td>21695</td>\n",
              "      <td>на проведение свадьбы</td>\n",
              "      <td>E</td>\n",
              "      <td>проведение свадьбы</td>\n",
              "    </tr>\n",
              "    <tr>\n",
              "      <th>14276</th>\n",
              "      <td>0</td>\n",
              "      <td>346602.453782</td>\n",
              "      <td>61</td>\n",
              "      <td>среднее</td>\n",
              "      <td>1</td>\n",
              "      <td>женат / замужем</td>\n",
              "      <td>0</td>\n",
              "      <td>F</td>\n",
              "      <td>пенсионер</td>\n",
              "      <td>0</td>\n",
              "      <td>21895</td>\n",
              "      <td>недвижимость</td>\n",
              "      <td>E</td>\n",
              "      <td>операции с недвижимостью</td>\n",
              "    </tr>\n",
              "    <tr>\n",
              "      <th>...</th>\n",
              "      <td>...</td>\n",
              "      <td>...</td>\n",
              "      <td>...</td>\n",
              "      <td>...</td>\n",
              "      <td>...</td>\n",
              "      <td>...</td>\n",
              "      <td>...</td>\n",
              "      <td>...</td>\n",
              "      <td>...</td>\n",
              "      <td>...</td>\n",
              "      <td>...</td>\n",
              "      <td>...</td>\n",
              "      <td>...</td>\n",
              "      <td>...</td>\n",
              "    </tr>\n",
              "    <tr>\n",
              "      <th>17178</th>\n",
              "      <td>0</td>\n",
              "      <td>5734.127087</td>\n",
              "      <td>42</td>\n",
              "      <td>высшее</td>\n",
              "      <td>0</td>\n",
              "      <td>гражданский брак</td>\n",
              "      <td>1</td>\n",
              "      <td>M</td>\n",
              "      <td>компаньон</td>\n",
              "      <td>0</td>\n",
              "      <td>1711309</td>\n",
              "      <td>сыграть свадьбу</td>\n",
              "      <td>A</td>\n",
              "      <td>проведение свадьбы</td>\n",
              "    </tr>\n",
              "    <tr>\n",
              "      <th>20809</th>\n",
              "      <td>0</td>\n",
              "      <td>4719.273476</td>\n",
              "      <td>61</td>\n",
              "      <td>среднее</td>\n",
              "      <td>1</td>\n",
              "      <td>Не женат / не замужем</td>\n",
              "      <td>4</td>\n",
              "      <td>F</td>\n",
              "      <td>сотрудник</td>\n",
              "      <td>0</td>\n",
              "      <td>1715018</td>\n",
              "      <td>покупка жилья для семьи</td>\n",
              "      <td>A</td>\n",
              "      <td>операции с недвижимостью</td>\n",
              "    </tr>\n",
              "    <tr>\n",
              "      <th>9169</th>\n",
              "      <td>1</td>\n",
              "      <td>5248.554336</td>\n",
              "      <td>35</td>\n",
              "      <td>среднее</td>\n",
              "      <td>1</td>\n",
              "      <td>гражданский брак</td>\n",
              "      <td>1</td>\n",
              "      <td>M</td>\n",
              "      <td>сотрудник</td>\n",
              "      <td>0</td>\n",
              "      <td>1726276</td>\n",
              "      <td>дополнительное образование</td>\n",
              "      <td>A</td>\n",
              "      <td>получение образования</td>\n",
              "    </tr>\n",
              "    <tr>\n",
              "      <th>19606</th>\n",
              "      <td>1</td>\n",
              "      <td>2577.664662</td>\n",
              "      <td>39</td>\n",
              "      <td>высшее</td>\n",
              "      <td>0</td>\n",
              "      <td>женат / замужем</td>\n",
              "      <td>0</td>\n",
              "      <td>M</td>\n",
              "      <td>компаньон</td>\n",
              "      <td>1</td>\n",
              "      <td>2200852</td>\n",
              "      <td>строительство недвижимости</td>\n",
              "      <td>A</td>\n",
              "      <td>операции с недвижимостью</td>\n",
              "    </tr>\n",
              "    <tr>\n",
              "      <th>12412</th>\n",
              "      <td>0</td>\n",
              "      <td>1477.438114</td>\n",
              "      <td>44</td>\n",
              "      <td>высшее</td>\n",
              "      <td>0</td>\n",
              "      <td>женат / замужем</td>\n",
              "      <td>0</td>\n",
              "      <td>M</td>\n",
              "      <td>компаньон</td>\n",
              "      <td>0</td>\n",
              "      <td>2265604</td>\n",
              "      <td>ремонт жилью</td>\n",
              "      <td>A</td>\n",
              "      <td>операции с недвижимостью</td>\n",
              "    </tr>\n",
              "  </tbody>\n",
              "</table>\n",
              "<p>21331 rows × 14 columns</p>\n",
              "</div>"
            ],
            "text/plain": [
              "       children  days_employed  dob_years education  education_id  \\\n",
              "14585         0  359219.059341         57   среднее             1   \n",
              "13006         0  369708.589113         37   среднее             1   \n",
              "16174         1    3642.820023         52   среднее             1   \n",
              "1598          0  359726.104207         68   среднее             1   \n",
              "14276         0  346602.453782         61   среднее             1   \n",
              "...         ...            ...        ...       ...           ...   \n",
              "17178         0    5734.127087         42    высшее             0   \n",
              "20809         0    4719.273476         61   среднее             1   \n",
              "9169          1    5248.554336         35   среднее             1   \n",
              "19606         1    2577.664662         39    высшее             0   \n",
              "12412         0    1477.438114         44    высшее             0   \n",
              "\n",
              "               family_status  family_status_id gender income_type  debt  \\\n",
              "14585        женат / замужем                 0      F   пенсионер     1   \n",
              "13006       гражданский брак                 1      M   пенсионер     0   \n",
              "16174        женат / замужем                 0      M   сотрудник     0   \n",
              "1598        гражданский брак                 1      M   пенсионер     0   \n",
              "14276        женат / замужем                 0      F   пенсионер     0   \n",
              "...                      ...               ...    ...         ...   ...   \n",
              "17178       гражданский брак                 1      M   компаньон     0   \n",
              "20809  Не женат / не замужем                 4      F   сотрудник     0   \n",
              "9169        гражданский брак                 1      M   сотрудник     0   \n",
              "19606        женат / замужем                 0      M   компаньон     1   \n",
              "12412        женат / замужем                 0      M   компаньон     0   \n",
              "\n",
              "       total_income                       purpose total_income_category  \\\n",
              "14585         20667                  недвижимость                     E   \n",
              "13006         21205  заняться высшим образованием                     E   \n",
              "16174         21367       приобретение автомобиля                     E   \n",
              "1598          21695         на проведение свадьбы                     E   \n",
              "14276         21895                  недвижимость                     E   \n",
              "...             ...                           ...                   ...   \n",
              "17178       1711309               сыграть свадьбу                     A   \n",
              "20809       1715018       покупка жилья для семьи                     A   \n",
              "9169        1726276    дополнительное образование                     A   \n",
              "19606       2200852    строительство недвижимости                     A   \n",
              "12412       2265604                  ремонт жилью                     A   \n",
              "\n",
              "               purpose_category  \n",
              "14585  операции с недвижимостью  \n",
              "13006     получение образования  \n",
              "16174    операции с автомобилем  \n",
              "1598         проведение свадьбы  \n",
              "14276  операции с недвижимостью  \n",
              "...                         ...  \n",
              "17178        проведение свадьбы  \n",
              "20809  операции с недвижимостью  \n",
              "9169      получение образования  \n",
              "19606  операции с недвижимостью  \n",
              "12412  операции с недвижимостью  \n",
              "\n",
              "[21331 rows x 14 columns]"
            ]
          },
          "execution_count": 40,
          "metadata": {},
          "output_type": "execute_result"
        }
      ],
      "source": [
        "data_income_sort"
      ],
      "id": "cf830dbb"
    },
    {
      "cell_type": "code",
      "execution_count": null,
      "metadata": {
        "id": "23374af4"
      },
      "outputs": [],
      "source": [
        "#приклеиваем к income_categories значения столбца debt из датафрейма data_income_sort\n",
        "income_categories = pd.concat([income_categories, data_income_sort['debt']], axis=1)"
      ],
      "id": "23374af4"
    },
    {
      "cell_type": "markdown",
      "metadata": {
        "id": "1c5fa8c2"
      },
      "source": [
        "Группируем по столбцу total_income, складываем количество просрочек и заводим новый столбец с процентом просрочек:"
      ],
      "id": "1c5fa8c2"
    },
    {
      "cell_type": "code",
      "execution_count": null,
      "metadata": {
        "id": "40c756a6"
      },
      "outputs": [],
      "source": [
        "#группируем по столбцу total_income, складываем количество просрочек\n",
        "income_cat_df = income_categories.groupby('total_income')['debt'].sum() # вот здесь, если применить agg({'debt':['sum','count']})\n",
        "#то выходит ошибка, поэтому дальнейшее решение по расчетам думаю верное, но по коду - не уверен."
      ],
      "id": "40c756a6"
    },
    {
      "cell_type": "code",
      "execution_count": null,
      "metadata": {
        "id": "b20cf733"
      },
      "outputs": [],
      "source": [
        "income_cat_df = income_cat_df.reset_index() #сбрасываем индекс\n",
        "#для наглядности переименуем столбцы\n",
        "income_cat_df = income_cat_df.rename(columns={'total_income': 'income_range', 'debt': 'q_debt'})"
      ],
      "id": "b20cf733"
    },
    {
      "cell_type": "code",
      "execution_count": null,
      "metadata": {
        "id": "33eb95fb",
        "outputId": "7dfb1dd2-6635-417e-c815-feef343869fa"
      },
      "outputs": [
        {
          "name": "stdout",
          "output_type": "stream",
          "text": [
            "            income_range  q_debt  debt_percent\n",
            "0   (20666.999, 98514.0]     344          8.06\n",
            "1    (98514.0, 132113.0]     358          8.39\n",
            "2   (132113.0, 161380.0]     373          8.74\n",
            "3   (161380.0, 214604.0]     358          8.39\n",
            "4  (214604.0, 2265604.0]     299          7.01\n"
          ]
        }
      ],
      "source": [
        "#заводим новый столбец со значением отношением просрочка/общее количество:\n",
        "income_cat_df['debt_percent'] = ((income_cat_df['q_debt']/income_cat_val['q_part'])*100).round(2)\n",
        "print(income_cat_df) # проверяем"
      ],
      "id": "33eb95fb"
    },
    {
      "cell_type": "markdown",
      "metadata": {
        "id": "a96254f3"
      },
      "source": [
        "Вывод по исследованию через qcut():\n",
        "Выявлено, что люди с высоким уровнем дохода (свыше 214000) реже других совершают просрочки по кредитам (на 1-1,5%). При этом не выявлено достоверной связи между ростом абсолютного дохода и снижением просрочек по платежам. Люди из группы с доходом 20000-99000 платят кредиты исправнее, чем люди с доходом 130000-160000."
      ],
      "id": "a96254f3"
    },
    {
      "cell_type": "markdown",
      "metadata": {
        "deletable": false,
        "editable": false,
        "id": "1623a00a"
      },
      "source": [
        "Как разные цели кредита влияют на его возврат в срок?"
      ],
      "id": "1623a00a"
    },
    {
      "cell_type": "code",
      "execution_count": null,
      "metadata": {
        "deletable": false,
        "id": "547c2bf1",
        "outputId": "bcf634cf-6dba-4020-b65e-fab4359e22c5"
      },
      "outputs": [
        {
          "name": "stdout",
          "output_type": "stream",
          "text": [
            "           purpose_category  debt_quantity  user_total  percent\n",
            "0    операции с автомобилем            400        4279     9.35\n",
            "1  операции с недвижимостью            780       10751     7.26\n",
            "2     получение образования            369        3988     9.25\n",
            "3        проведение свадьбы            183        2313     7.91\n"
          ]
        }
      ],
      "source": [
        "purpose_category_df = data.groupby('purpose_category').agg({'debt':['sum', 'count']}) # Действия аналогичные предыдущему заданию\n",
        "#print(purpose_category_df) # проверка\n",
        "\n",
        "purpose_category_df = purpose_category_df.reset_index() # убираем индекс\n",
        "purpose_category_df.columns = ['purpose_category', 'debt_quantity', 'user_total'] # избавляемся от мультииндекса и переименовываем столбцы\n",
        "#print(purpose_category_df) #проверка\n",
        "\n",
        "#создаем столбец с процентами:\n",
        "purpose_category_df['percent'] = ((purpose_category_df['debt_quantity']/purpose_category_df['user_total'])*100).round(2)\n",
        "print(purpose_category_df)"
      ],
      "id": "547c2bf1"
    },
    {
      "cell_type": "markdown",
      "metadata": {
        "deletable": false,
        "id": "2297fb7b"
      },
      "source": [
        "Есть взаимосвязь между целью кредита и вероятностью возникновения задолженности. Так, люди берущие кредит на операции с автомобилем и получение образования сталкиваются с невозможностью вовремя произвести платёж чаще, чем люди, цель кредита которых являются операции с недвижимостью и проведение свадьбы. Разница между двумя этими \"подкатегориями\" составляет ~1,5-2%.**"
      ],
      "id": "2297fb7b"
    },
    {
      "cell_type": "markdown",
      "metadata": {
        "id": "b664c3e5"
      },
      "source": [
        "Думаю, что недвижимостью занимаются люди с большей дисциплинированностью и возможно большим доходом. Стимул выплатить ипотеку выше - т.к. остаться без крыши над головой - это не езда на общественном транспорте (как в случае с просрочкой платежей по кредиту на автомобиль). Процент по ипотеке ниже чем во всех остальных видах кредита - это тоже сказывается.\n",
        "В случае же свадьб, полагаю, что деньги полученные в качестве подарка на свадьбу идут в счет покашения кредита, что сильно облегчает долговую нагрузку."
      ],
      "id": "b664c3e5"
    },
    {
      "cell_type": "markdown",
      "metadata": {
        "deletable": false,
        "editable": false,
        "id": "a5bf924e"
      },
      "source": [
        "Приведите возможные причины появления пропусков в исходных данных."
      ],
      "id": "a5bf924e"
    },
    {
      "cell_type": "markdown",
      "metadata": {
        "deletable": false,
        "id": "d708e5a7"
      },
      "source": [
        "*Ответ:* Пропуски в графе days_employed у пенсионеров, студентов, безработных и в декрете - неслучайны. Данные категории могут не иметь работы. Пенсионеры и студенты бывают работающие, но в данном случае, вероятно число дней не указано из-за отсутвия работы. У госслужащих, возможно, пропуски в данной графе также могут быть неслучайны, т.к. инфомация о службе может быть обьектом гостайны. У остальных, скорее всего пропуски носят случайных характер и связаны с техническими ошибками.\n",
        "Отсутствие данных по доходу также может быть связано со столбцом income_type. Безработные,  студенты и, возможно, родители в декрете могут не иметь официального источника дохода (имеется в виду, что их \"кормят\" члены их семей, а не то что они совсем без денег сидят). А вот у остальных данные по доходу скорее всего отсутствуют из-за небрежности заполнения или технической ошибки, т.к. вероятность того, что человеку выдадут кредит без получения от него информации о доходе крайне низкая."
      ],
      "id": "d708e5a7"
    },
    {
      "cell_type": "markdown",
      "metadata": {
        "deletable": false,
        "editable": false,
        "id": "02064abb"
      },
      "source": [
        "Объясните, почему заполнить пропуски медианным значением — лучшее решение для количественных переменных."
      ],
      "id": "02064abb"
    },
    {
      "cell_type": "markdown",
      "metadata": {
        "deletable": false,
        "id": "15244974"
      },
      "source": [
        "*Ответ:* В случае зарплат или других подобных переменных среди значений с плавно меняющимися количественными параметрами могут попадаться \"выбросы\" - единичные, сильно отличающиеся от остальных значения. Это не ошибки, а реальные данные (хотя ошибки тоже нельзя исключить), которые могут сильно \"подвинуть\" среднее значение, что при заполнении пропусков может исказить общую картину данных по выбранному параметру (в нашем случае зарплате)."
      ],
      "id": "15244974"
    },
    {
      "cell_type": "markdown",
      "metadata": {
        "deletable": false,
        "editable": false,
        "id": "d02cc321"
      },
      "source": [],
      "id": "d02cc321"
    },
    {
      "cell_type": "markdown",
      "metadata": {
        "id": "2303db3c"
      },
      "source": [
        "ВЫВОД\n",
        "Прежде чем перейти к исследованию, пришлось провести небольшую предобработку данных, она включала:\n",
        "- работа с аномальными значениями (стаж и количество детей местами были отрицательны);\n",
        "- обработка пропусков (замена медианными значениями в стаже в зависимости от категории занятости);\n",
        "- удалены дубликаты.\n",
        "\n",
        "Исходя из проведенного исследования, можно сделать следующие выводы:\n",
        "- Наличие детей приводит к увеличению вероятности просрочки по кредиту (на 1-2%);\n",
        "\n",
        "- Семейное положение также влияет на просрочку по кредиту: самые надежные заёмщики - вдовцы и вдовы (всего 6% случаев просрочки), самые ненадёжные - не состоящие в браке или живущие в гражданском браке (процент просрочки по кредиту приближается к 10%); При этом наличие партнера исходя из сводных данных - повышает вероятность просрочки(разница между категориями составляет ~1.5%); Если же посмотреть на распределение по категориям \"состоял(а) ли когда-либо в браке\" или \"не состоял(а)\" то можно заметить что люди из первой категории реже допускают просрочки платежей (разница достигает 2,5%);\n",
        "\n",
        "- Исходя из двух видов проведенных исследований, можно сказать, что размер дохода влиет на процент просрочек. Зависимость нельзя назвать прямой, тем не менее, она есть. При этом люди с небольшим доходом (около 50000) могут справляться с обязательствами по кредиту лучше тех, кто имеет средние значения (около 150000). При этом согласно альтернативному исследованию (через qcut()) люди имеющие доход свыше 214000 значительно пунктуальнее в выплатах относительно других подгрупп (разница до 1,5%)\n",
        ".\n",
        "- Люди берущие кредит на операции с авто и получение образования чаще нарушают график платежей, по сравнению с теми, кто берет деньги на свадьбу или жилье (9% и 7% соответственно).\n",
        "\n",
        "Таким образом, одинокие вдовы/вдовцы, без детей, с доходом свыше 214000, берущие кредит на свадьбу или на жилье чаще всех остальных соблюдают график платежей.\n",
        "\n",
        "А вот живущие в гражданском браке, с детьми, имеющие средний или доход ниже среднего берущие деньги на образование или авто - напротив - наиболее вероятный должник по кредиту."
      ],
      "id": "2303db3c"
    }
  ],
  "metadata": {
    "ExecuteTimeLog": [
      {
        "duration": 44,
        "start_time": "2024-01-17T16:24:46.891Z"
      },
      {
        "duration": 354,
        "start_time": "2024-01-17T16:24:57.004Z"
      },
      {
        "duration": 81,
        "start_time": "2024-01-17T16:24:58.676Z"
      },
      {
        "duration": 294,
        "start_time": "2024-01-17T16:25:25.585Z"
      },
      {
        "duration": 9,
        "start_time": "2024-01-17T16:25:30.469Z"
      },
      {
        "duration": 15,
        "start_time": "2024-01-17T16:26:25.909Z"
      },
      {
        "duration": 23,
        "start_time": "2024-01-17T16:27:58.526Z"
      },
      {
        "duration": 11,
        "start_time": "2024-01-17T16:28:10.047Z"
      },
      {
        "duration": 10,
        "start_time": "2024-01-17T16:28:24.022Z"
      },
      {
        "duration": 52,
        "start_time": "2024-01-18T07:04:49.930Z"
      },
      {
        "duration": 441,
        "start_time": "2024-01-18T07:05:11.079Z"
      },
      {
        "duration": 139,
        "start_time": "2024-01-18T07:05:11.522Z"
      },
      {
        "duration": 13,
        "start_time": "2024-01-18T07:05:11.663Z"
      },
      {
        "duration": 33,
        "start_time": "2024-01-18T07:05:11.677Z"
      },
      {
        "duration": 14,
        "start_time": "2024-01-18T07:05:11.712Z"
      },
      {
        "duration": 5,
        "start_time": "2024-01-18T07:05:11.728Z"
      },
      {
        "duration": 6,
        "start_time": "2024-01-18T07:05:11.734Z"
      },
      {
        "duration": 5,
        "start_time": "2024-01-18T07:05:11.741Z"
      },
      {
        "duration": 8,
        "start_time": "2024-01-18T07:05:11.748Z"
      },
      {
        "duration": 5,
        "start_time": "2024-01-18T07:05:11.757Z"
      },
      {
        "duration": 16,
        "start_time": "2024-01-18T07:05:11.764Z"
      },
      {
        "duration": 44,
        "start_time": "2024-01-18T07:05:11.781Z"
      },
      {
        "duration": 8,
        "start_time": "2024-01-18T07:05:11.826Z"
      },
      {
        "duration": 8,
        "start_time": "2024-01-18T07:05:11.836Z"
      },
      {
        "duration": 9,
        "start_time": "2024-01-18T07:05:11.846Z"
      },
      {
        "duration": 12,
        "start_time": "2024-01-18T07:05:11.857Z"
      },
      {
        "duration": 9,
        "start_time": "2024-01-18T07:05:11.870Z"
      },
      {
        "duration": 10,
        "start_time": "2024-01-18T07:05:11.881Z"
      },
      {
        "duration": 21,
        "start_time": "2024-01-18T07:05:11.893Z"
      },
      {
        "duration": 18,
        "start_time": "2024-01-18T07:05:11.915Z"
      },
      {
        "duration": 14,
        "start_time": "2024-01-18T07:05:11.935Z"
      },
      {
        "duration": 13,
        "start_time": "2024-01-18T07:05:11.950Z"
      },
      {
        "duration": 7,
        "start_time": "2024-01-18T07:05:32.804Z"
      },
      {
        "duration": 4,
        "start_time": "2024-01-18T07:46:17.137Z"
      },
      {
        "duration": 2,
        "start_time": "2024-01-18T08:04:19.373Z"
      },
      {
        "duration": 76,
        "start_time": "2024-01-18T08:04:19.974Z"
      },
      {
        "duration": 8,
        "start_time": "2024-01-18T08:04:20.613Z"
      },
      {
        "duration": 16,
        "start_time": "2024-01-18T08:04:22.317Z"
      },
      {
        "duration": 11,
        "start_time": "2024-01-18T08:04:24.021Z"
      },
      {
        "duration": 36,
        "start_time": "2024-01-18T08:04:25.661Z"
      },
      {
        "duration": 4,
        "start_time": "2024-01-18T08:04:28.348Z"
      },
      {
        "duration": 7,
        "start_time": "2024-01-18T08:04:30.285Z"
      },
      {
        "duration": 4,
        "start_time": "2024-01-18T08:04:36.140Z"
      },
      {
        "duration": 10,
        "start_time": "2024-01-18T08:04:39.876Z"
      },
      {
        "duration": 63,
        "start_time": "2024-01-18T08:13:46.052Z"
      },
      {
        "duration": 4,
        "start_time": "2024-01-18T08:13:52.765Z"
      },
      {
        "duration": 68,
        "start_time": "2024-01-18T08:14:02.805Z"
      },
      {
        "duration": 8,
        "start_time": "2024-01-18T08:14:21.799Z"
      },
      {
        "duration": 10,
        "start_time": "2024-01-18T08:14:25.414Z"
      },
      {
        "duration": 81,
        "start_time": "2024-01-18T08:15:00.165Z"
      },
      {
        "duration": 3,
        "start_time": "2024-01-18T08:15:06.149Z"
      },
      {
        "duration": 8,
        "start_time": "2024-01-18T08:15:22.844Z"
      },
      {
        "duration": 8,
        "start_time": "2024-01-18T08:15:27.325Z"
      },
      {
        "duration": 8,
        "start_time": "2024-01-18T08:15:32.885Z"
      },
      {
        "duration": 14,
        "start_time": "2024-01-18T08:15:42.781Z"
      },
      {
        "duration": 18,
        "start_time": "2024-01-18T08:17:31.821Z"
      },
      {
        "duration": 70,
        "start_time": "2024-01-18T08:19:07.796Z"
      },
      {
        "duration": 19,
        "start_time": "2024-01-18T08:19:13.540Z"
      },
      {
        "duration": 13,
        "start_time": "2024-01-18T08:25:59.204Z"
      },
      {
        "duration": 8,
        "start_time": "2024-01-18T08:27:00.198Z"
      },
      {
        "duration": 5,
        "start_time": "2024-01-18T08:27:04.716Z"
      },
      {
        "duration": 8,
        "start_time": "2024-01-18T08:32:49.373Z"
      },
      {
        "duration": 3,
        "start_time": "2024-01-18T08:32:54.852Z"
      },
      {
        "duration": 362,
        "start_time": "2024-01-18T08:32:56.892Z"
      },
      {
        "duration": 448,
        "start_time": "2024-01-18T08:33:45.251Z"
      },
      {
        "duration": 82,
        "start_time": "2024-01-18T08:33:45.702Z"
      },
      {
        "duration": 11,
        "start_time": "2024-01-18T08:33:45.785Z"
      },
      {
        "duration": 18,
        "start_time": "2024-01-18T08:33:45.798Z"
      },
      {
        "duration": 21,
        "start_time": "2024-01-18T08:33:45.818Z"
      },
      {
        "duration": 55,
        "start_time": "2024-01-18T08:33:45.841Z"
      },
      {
        "duration": 4,
        "start_time": "2024-01-18T08:33:45.897Z"
      },
      {
        "duration": 26,
        "start_time": "2024-01-18T08:33:45.902Z"
      },
      {
        "duration": 12,
        "start_time": "2024-01-18T08:33:45.930Z"
      },
      {
        "duration": 12,
        "start_time": "2024-01-18T08:33:45.943Z"
      },
      {
        "duration": 4,
        "start_time": "2024-01-18T08:33:45.956Z"
      },
      {
        "duration": 43,
        "start_time": "2024-01-18T08:33:45.962Z"
      },
      {
        "duration": 10,
        "start_time": "2024-01-18T08:33:46.006Z"
      },
      {
        "duration": 6,
        "start_time": "2024-01-18T08:33:46.018Z"
      },
      {
        "duration": 16,
        "start_time": "2024-01-18T08:33:46.025Z"
      },
      {
        "duration": 38,
        "start_time": "2024-01-18T08:33:46.042Z"
      },
      {
        "duration": 18,
        "start_time": "2024-01-18T08:33:46.082Z"
      },
      {
        "duration": 3,
        "start_time": "2024-01-18T08:33:46.102Z"
      },
      {
        "duration": 446,
        "start_time": "2024-01-18T08:33:46.106Z"
      },
      {
        "duration": 0,
        "start_time": "2024-01-18T08:33:46.554Z"
      },
      {
        "duration": 0,
        "start_time": "2024-01-18T08:33:46.555Z"
      },
      {
        "duration": 0,
        "start_time": "2024-01-18T08:33:46.557Z"
      },
      {
        "duration": 352,
        "start_time": "2024-01-18T08:36:05.758Z"
      },
      {
        "duration": 65,
        "start_time": "2024-01-18T08:37:35.548Z"
      },
      {
        "duration": 3,
        "start_time": "2024-01-18T08:37:48.276Z"
      },
      {
        "duration": 9,
        "start_time": "2024-01-18T08:37:53.796Z"
      },
      {
        "duration": 3,
        "start_time": "2024-01-18T08:39:35.380Z"
      },
      {
        "duration": 6,
        "start_time": "2024-01-18T08:40:48.067Z"
      },
      {
        "duration": 4,
        "start_time": "2024-01-18T09:01:16.277Z"
      },
      {
        "duration": 391,
        "start_time": "2024-01-18T09:01:19.077Z"
      },
      {
        "duration": 407,
        "start_time": "2024-01-18T09:01:43.044Z"
      },
      {
        "duration": 5,
        "start_time": "2024-01-18T09:02:06.883Z"
      },
      {
        "duration": 11,
        "start_time": "2024-01-18T09:02:08.628Z"
      }
    ],
    "colab": {
      "provenance": []
    },
    "kernelspec": {
      "display_name": "Python 3 (ipykernel)",
      "language": "python",
      "name": "python3"
    },
    "language_info": {
      "codemirror_mode": {
        "name": "ipython",
        "version": 3
      },
      "file_extension": ".py",
      "mimetype": "text/x-python",
      "name": "python",
      "nbconvert_exporter": "python",
      "pygments_lexer": "ipython3",
      "version": "3.9.5"
    },
    "toc": {
      "base_numbering": 1,
      "nav_menu": {},
      "number_sections": true,
      "sideBar": true,
      "skip_h1_title": true,
      "title_cell": "Table of Contents",
      "title_sidebar": "Contents",
      "toc_cell": false,
      "toc_position": {},
      "toc_section_display": true,
      "toc_window_display": false
    }
  },
  "nbformat": 4,
  "nbformat_minor": 5
}